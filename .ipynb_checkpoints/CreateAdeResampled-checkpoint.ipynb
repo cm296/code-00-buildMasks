{
 "cells": [
  {
   "cell_type": "code",
   "execution_count": 4,
   "id": "characteristic-origin",
   "metadata": {},
   "outputs": [],
   "source": [
    "import os\n",
    "import pandas as pd\n",
    "from tqdm import tqdm\n",
    "import matplotlib.pyplot as plt\n",
    "import numpy as np\n",
    "import ProduceNewMasks as msk\n",
    "import ProcessSegMask as atr\n",
    "import csv\n",
    "import time"
   ]
  },
  {
   "cell_type": "code",
   "execution_count": 5,
   "id": "packed-cooperation",
   "metadata": {},
   "outputs": [],
   "source": [
    "local = 1\n",
    "SaveFolder = 'masks-ade-4'\n"
   ]
  },
  {
   "cell_type": "code",
   "execution_count": 6,
   "id": "ordered-canon",
   "metadata": {},
   "outputs": [],
   "source": [
    "Ade_subset = pd.read_csv(\"../Ade20K_labels/Ade20K_labels_local_scene_subset.txt\")"
   ]
  },
  {
   "cell_type": "code",
   "execution_count": 7,
   "id": "engaged-viewer",
   "metadata": {},
   "outputs": [
    {
     "data": {
      "text/plain": [
       "19950"
      ]
     },
     "execution_count": 7,
     "metadata": {},
     "output_type": "execute_result"
    }
   ],
   "source": [
    "len(np.unique(Ade_subset['filename']))"
   ]
  },
  {
   "cell_type": "code",
   "execution_count": 8,
   "id": "figured-toronto",
   "metadata": {},
   "outputs": [
    {
     "data": {
      "text/html": [
       "<div>\n",
       "<style scoped>\n",
       "    .dataframe tbody tr th:only-of-type {\n",
       "        vertical-align: middle;\n",
       "    }\n",
       "\n",
       "    .dataframe tbody tr th {\n",
       "        vertical-align: top;\n",
       "    }\n",
       "\n",
       "    .dataframe thead th {\n",
       "        text-align: right;\n",
       "    }\n",
       "</style>\n",
       "<table border=\"1\" class=\"dataframe\">\n",
       "  <thead>\n",
       "    <tr style=\"text-align: right;\">\n",
       "      <th></th>\n",
       "      <th></th>\n",
       "      <th>countOcc</th>\n",
       "    </tr>\n",
       "    <tr>\n",
       "      <th>object</th>\n",
       "      <th>scene</th>\n",
       "      <th></th>\n",
       "    </tr>\n",
       "  </thead>\n",
       "  <tbody>\n",
       "    <tr>\n",
       "      <th rowspan=\"5\" valign=\"top\">airplane</th>\n",
       "      <th>air_base</th>\n",
       "      <td>9</td>\n",
       "    </tr>\n",
       "    <tr>\n",
       "      <th>airfield</th>\n",
       "      <td>7</td>\n",
       "    </tr>\n",
       "    <tr>\n",
       "      <th>airport/airport</th>\n",
       "      <td>13</td>\n",
       "    </tr>\n",
       "    <tr>\n",
       "      <th>airport_terminal</th>\n",
       "      <td>1</td>\n",
       "    </tr>\n",
       "    <tr>\n",
       "      <th>amusement_park</th>\n",
       "      <td>1</td>\n",
       "    </tr>\n",
       "    <tr>\n",
       "      <th>...</th>\n",
       "      <th>...</th>\n",
       "      <td>...</td>\n",
       "    </tr>\n",
       "    <tr>\n",
       "      <th rowspan=\"5\" valign=\"top\">vase</th>\n",
       "      <th>waiting_room</th>\n",
       "      <td>17</td>\n",
       "    </tr>\n",
       "    <tr>\n",
       "      <th>wet_bar</th>\n",
       "      <td>8</td>\n",
       "    </tr>\n",
       "    <tr>\n",
       "      <th>window_seat</th>\n",
       "      <td>5</td>\n",
       "    </tr>\n",
       "    <tr>\n",
       "      <th>youth_hostel</th>\n",
       "      <td>2</td>\n",
       "    </tr>\n",
       "    <tr>\n",
       "      <th>~not labeled</th>\n",
       "      <td>66</td>\n",
       "    </tr>\n",
       "  </tbody>\n",
       "</table>\n",
       "<p>7595 rows × 1 columns</p>\n",
       "</div>"
      ],
      "text/plain": [
       "                           countOcc\n",
       "object   scene                     \n",
       "airplane air_base                 9\n",
       "         airfield                 7\n",
       "         airport/airport         13\n",
       "         airport_terminal         1\n",
       "         amusement_park           1\n",
       "...                             ...\n",
       "vase     waiting_room            17\n",
       "         wet_bar                  8\n",
       "         window_seat              5\n",
       "         youth_hostel             2\n",
       "         ~not labeled            66\n",
       "\n",
       "[7595 rows x 1 columns]"
      ]
     },
     "execution_count": 8,
     "metadata": {},
     "output_type": "execute_result"
    }
   ],
   "source": [
    "obj_count_byscene = pd.DataFrame({'countOcc': Ade_subset.groupby(['object','scene']).object.count()})\n",
    "obj_count_byscene"
   ]
  },
  {
   "cell_type": "code",
   "execution_count": 9,
   "id": "ordered-bennett",
   "metadata": {},
   "outputs": [],
   "source": [
    "obj_count_byscene['scene']=obj_count_byscene.index.get_level_values(1)\n",
    "\n",
    "obj_count_byscene.index = obj_count_byscene.index.get_level_values(0)\n"
   ]
  },
  {
   "cell_type": "code",
   "execution_count": 10,
   "id": "decimal-check",
   "metadata": {},
   "outputs": [
    {
     "data": {
      "text/html": [
       "<div>\n",
       "<style scoped>\n",
       "    .dataframe tbody tr th:only-of-type {\n",
       "        vertical-align: middle;\n",
       "    }\n",
       "\n",
       "    .dataframe tbody tr th {\n",
       "        vertical-align: top;\n",
       "    }\n",
       "\n",
       "    .dataframe thead th {\n",
       "        text-align: right;\n",
       "    }\n",
       "</style>\n",
       "<table border=\"1\" class=\"dataframe\">\n",
       "  <thead>\n",
       "    <tr style=\"text-align: right;\">\n",
       "      <th></th>\n",
       "      <th>countOcc</th>\n",
       "      <th>scene</th>\n",
       "    </tr>\n",
       "    <tr>\n",
       "      <th>object</th>\n",
       "      <th></th>\n",
       "      <th></th>\n",
       "    </tr>\n",
       "  </thead>\n",
       "  <tbody>\n",
       "    <tr>\n",
       "      <th>airplane</th>\n",
       "      <td>9</td>\n",
       "      <td>air_base</td>\n",
       "    </tr>\n",
       "    <tr>\n",
       "      <th>airplane</th>\n",
       "      <td>7</td>\n",
       "      <td>airfield</td>\n",
       "    </tr>\n",
       "    <tr>\n",
       "      <th>airplane</th>\n",
       "      <td>13</td>\n",
       "      <td>airport/airport</td>\n",
       "    </tr>\n",
       "    <tr>\n",
       "      <th>airplane</th>\n",
       "      <td>1</td>\n",
       "      <td>airport_terminal</td>\n",
       "    </tr>\n",
       "    <tr>\n",
       "      <th>airplane</th>\n",
       "      <td>1</td>\n",
       "      <td>amusement_park</td>\n",
       "    </tr>\n",
       "    <tr>\n",
       "      <th>...</th>\n",
       "      <td>...</td>\n",
       "      <td>...</td>\n",
       "    </tr>\n",
       "    <tr>\n",
       "      <th>vase</th>\n",
       "      <td>17</td>\n",
       "      <td>waiting_room</td>\n",
       "    </tr>\n",
       "    <tr>\n",
       "      <th>vase</th>\n",
       "      <td>8</td>\n",
       "      <td>wet_bar</td>\n",
       "    </tr>\n",
       "    <tr>\n",
       "      <th>vase</th>\n",
       "      <td>5</td>\n",
       "      <td>window_seat</td>\n",
       "    </tr>\n",
       "    <tr>\n",
       "      <th>vase</th>\n",
       "      <td>2</td>\n",
       "      <td>youth_hostel</td>\n",
       "    </tr>\n",
       "    <tr>\n",
       "      <th>vase</th>\n",
       "      <td>66</td>\n",
       "      <td>~not labeled</td>\n",
       "    </tr>\n",
       "  </tbody>\n",
       "</table>\n",
       "<p>7595 rows × 2 columns</p>\n",
       "</div>"
      ],
      "text/plain": [
       "          countOcc             scene\n",
       "object                              \n",
       "airplane         9          air_base\n",
       "airplane         7          airfield\n",
       "airplane        13   airport/airport\n",
       "airplane         1  airport_terminal\n",
       "airplane         1    amusement_park\n",
       "...            ...               ...\n",
       "vase            17      waiting_room\n",
       "vase             8           wet_bar\n",
       "vase             5       window_seat\n",
       "vase             2      youth_hostel\n",
       "vase            66      ~not labeled\n",
       "\n",
       "[7595 rows x 2 columns]"
      ]
     },
     "execution_count": 10,
     "metadata": {},
     "output_type": "execute_result"
    }
   ],
   "source": [
    "obj_count_byscene"
   ]
  },
  {
   "cell_type": "code",
   "execution_count": 11,
   "id": "logical-coating",
   "metadata": {},
   "outputs": [],
   "source": [
    "# scene_count = pd.DataFrame({'countOcc':Ade_subset.groupby(['scene']).scene.count()})"
   ]
  },
  {
   "cell_type": "code",
   "execution_count": 12,
   "id": "foreign-surgeon",
   "metadata": {},
   "outputs": [],
   "source": [
    "# scene_count.head()\n",
    "# scene_count['object'] = scene_count.index.get_level_values(1)\n",
    "# scene_count.index = scene_count.index.get_level_values(0)"
   ]
  },
  {
   "cell_type": "code",
   "execution_count": 13,
   "id": "stone-today",
   "metadata": {},
   "outputs": [],
   "source": [
    "# scene_count"
   ]
  },
  {
   "cell_type": "code",
   "execution_count": 14,
   "id": "meaning-photography",
   "metadata": {},
   "outputs": [],
   "source": [
    "# sc_by_cat = scene_count[scene_count.index.get_level_values(0)=='abbey']"
   ]
  },
  {
   "cell_type": "code",
   "execution_count": 15,
   "id": "fifteen-museum",
   "metadata": {},
   "outputs": [],
   "source": [
    "# sc_by_cat = pd.DataFrame({'countOcc':Ade_subset.groupby(['scene','object']).scene.count()})"
   ]
  },
  {
   "cell_type": "code",
   "execution_count": 16,
   "id": "accepted-storm",
   "metadata": {},
   "outputs": [],
   "source": [
    "# sc_by_cat"
   ]
  },
  {
   "cell_type": "code",
   "execution_count": 17,
   "id": "equal-drive",
   "metadata": {},
   "outputs": [],
   "source": [
    "# sc_by_cat[sc_by_cat.index.get_level_values(1) == 'bench'].countOcc"
   ]
  },
  {
   "cell_type": "code",
   "execution_count": 18,
   "id": "adequate-florida",
   "metadata": {},
   "outputs": [],
   "source": [
    "Ade_NoObj = Ade_subset[Ade_subset['object'] != 'airplane']"
   ]
  },
  {
   "cell_type": "code",
   "execution_count": 19,
   "id": "generic-control",
   "metadata": {},
   "outputs": [],
   "source": [
    "Ade_NoObj = pd.DataFrame({'countsc' : Ade_NoObj.groupby(['filename','scene','filepath']).scene.count()})"
   ]
  },
  {
   "cell_type": "code",
   "execution_count": 20,
   "id": "photographic-dining",
   "metadata": {},
   "outputs": [],
   "source": [
    "Ade_NoObj['filepath'] = Ade_NoObj.index.get_level_values(2)\n",
    "Ade_NoObj['scene'] = Ade_NoObj.index.get_level_values(1)\n",
    "Ade_NoObj.index = Ade_NoObj.index.get_level_values(0)"
   ]
  },
  {
   "cell_type": "code",
   "execution_count": 21,
   "id": "present-eligibility",
   "metadata": {},
   "outputs": [],
   "source": [
    "# sc_by_cat['object'] = sc_by_cat.index.get_level_values(1)\n",
    "# sc_by_cat.index = sc_by_cat.index.get_level_values(0)"
   ]
  },
  {
   "cell_type": "code",
   "execution_count": 22,
   "id": "vertical-fortune",
   "metadata": {},
   "outputs": [
    {
     "data": {
      "text/html": [
       "<div>\n",
       "<style scoped>\n",
       "    .dataframe tbody tr th:only-of-type {\n",
       "        vertical-align: middle;\n",
       "    }\n",
       "\n",
       "    .dataframe tbody tr th {\n",
       "        vertical-align: top;\n",
       "    }\n",
       "\n",
       "    .dataframe thead th {\n",
       "        text-align: right;\n",
       "    }\n",
       "</style>\n",
       "<table border=\"1\" class=\"dataframe\">\n",
       "  <thead>\n",
       "    <tr style=\"text-align: right;\">\n",
       "      <th></th>\n",
       "      <th>countsc</th>\n",
       "      <th>filepath</th>\n",
       "      <th>scene</th>\n",
       "    </tr>\n",
       "    <tr>\n",
       "      <th>filename</th>\n",
       "      <th></th>\n",
       "      <th></th>\n",
       "      <th></th>\n",
       "    </tr>\n",
       "  </thead>\n",
       "  <tbody>\n",
       "    <tr>\n",
       "      <th>ADE_train_00000001</th>\n",
       "      <td>3</td>\n",
       "      <td>../../../../datasets_public/ADE20K/ADE20K_2016...</td>\n",
       "      <td>airport_terminal</td>\n",
       "    </tr>\n",
       "  </tbody>\n",
       "</table>\n",
       "</div>"
      ],
      "text/plain": [
       "                    countsc  \\\n",
       "filename                      \n",
       "ADE_train_00000001        3   \n",
       "\n",
       "                                                             filepath  \\\n",
       "filename                                                                \n",
       "ADE_train_00000001  ../../../../datasets_public/ADE20K/ADE20K_2016...   \n",
       "\n",
       "                               scene  \n",
       "filename                              \n",
       "ADE_train_00000001  airport_terminal  "
      ]
     },
     "execution_count": 22,
     "metadata": {},
     "output_type": "execute_result"
    }
   ],
   "source": [
    "Ade_NoObj.head(1)"
   ]
  },
  {
   "cell_type": "code",
   "execution_count": 23,
   "id": "honey-criticism",
   "metadata": {},
   "outputs": [],
   "source": [
    "scene_count = obj_count_byscene.set_index('scene')"
   ]
  },
  {
   "cell_type": "code",
   "execution_count": 24,
   "id": "forward-conversion",
   "metadata": {},
   "outputs": [],
   "source": [
    "scene_count['object'] = obj_count_byscene.index"
   ]
  },
  {
   "cell_type": "code",
   "execution_count": 25,
   "id": "representative-triple",
   "metadata": {},
   "outputs": [],
   "source": [
    "from tqdm import tqdm\n"
   ]
  },
  {
   "cell_type": "code",
   "execution_count": 26,
   "id": "weighted-priest",
   "metadata": {},
   "outputs": [],
   "source": [
    "sc_by_cat = scene_count[scene_count.index == 'air_base']"
   ]
  },
  {
   "cell_type": "code",
   "execution_count": 27,
   "id": "prospective-analysis",
   "metadata": {},
   "outputs": [],
   "source": [
    "nImages = int(sc_by_cat[sc_by_cat['object'] == 'airplane'].countOcc)"
   ]
  },
  {
   "cell_type": "code",
   "execution_count": 28,
   "id": "front-conversion",
   "metadata": {},
   "outputs": [
    {
     "data": {
      "text/plain": [
       "9"
      ]
     },
     "execution_count": 28,
     "metadata": {},
     "output_type": "execute_result"
    }
   ],
   "source": [
    "nImages"
   ]
  },
  {
   "cell_type": "code",
   "execution_count": 29,
   "id": "waiting-reference",
   "metadata": {},
   "outputs": [
    {
     "name": "stderr",
     "output_type": "stream",
     "text": [
      "100%|██████████| 81/81 [01:03<00:00,  1.27it/s]\n"
     ]
    }
   ],
   "source": [
    "newdf = pd.DataFrame()\n",
    "missing = pd.DataFrame()\n",
    "missobj = [] \n",
    "misssc = []\n",
    "misscount = []\n",
    "for obj in tqdm(np.unique(obj_count_byscene.index)):\n",
    "#     print(obj)\n",
    "    thisobj = obj_count_byscene.loc[obj]\n",
    "#     print(thisobj)\n",
    "    Ade_NoObj = Ade_subset[Ade_subset['object'] != obj]\n",
    "    Ade_NoObj = pd.DataFrame({'countob' : Ade_NoObj.groupby(['filename','scene','filepath']).scene.count()})\n",
    "    Ade_NoObj['filepath'] = Ade_NoObj.index.get_level_values(2)\n",
    "    Ade_NoObj['scene'] = Ade_NoObj.index.get_level_values(1)\n",
    "    Ade_NoObj.index = Ade_NoObj.index.get_level_values(0)\n",
    "#     print('ready')\n",
    "    for sc in thisobj['scene']:\n",
    "        \n",
    "        sc_by_cat = scene_count[scene_count.index==sc]\n",
    "        nImages = int(sc_by_cat[sc_by_cat['object'] == obj].countOcc)\n",
    "        if len(Ade_NoObj[Ade_NoObj['scene']==sc]) == 0:\n",
    "            missobj.append(obj)\n",
    "            misssc.append(sc)\n",
    "            misscount.append(nImages)\n",
    "            \n",
    "#             print('no replacement images for this object and this scene:', obj, sc)\n",
    "            continue\n",
    "        elif nImages < len(Ade_NoObj[Ade_NoObj['scene']==sc]):\n",
    "            newsample = Ade_NoObj[Ade_NoObj['scene']==sc].sample(nImages)\n",
    "        else:\n",
    "            newsample = Ade_NoObj[Ade_NoObj['scene']==sc].sample(nImages,replace=True)\n",
    "        newsample = newsample.assign(objectCat = obj)\n",
    "        newsample = newsample.assign(scene = sc)\n",
    "        newdf = newdf.append(newsample)\n",
    "#             newdf.append(Ade_NoObj[Ade_NoObj['scene']==sc].sample(nImages))\n",
    "missing_items = pd.DataFrame(\n",
    "    {'object': missobj,\n",
    "     'scene': misssc,\n",
    "     'countObj': misscount\n",
    "    })            \n"
   ]
  },
  {
   "cell_type": "code",
   "execution_count": 30,
   "id": "intermediate-winter",
   "metadata": {},
   "outputs": [],
   "source": [
    "newdf = newdf.reset_index()\n",
    "newdf = newdf[[\"objectCat\", \"filepath\", \"filename\",'scene']]\n",
    "newdf = newdf.rename(columns={\"objectCat\": \"object\"})           \n",
    "newdf.to_csv('../Ade20K_labels/Ade20K_labels_local_scene_subset_resampled.txt')   "
   ]
  },
  {
   "cell_type": "code",
   "execution_count": 31,
   "id": "descending-diversity",
   "metadata": {},
   "outputs": [],
   "source": [
    "missing_items.to_csv('../Ade20K_labels/missingItems_resampled.txt')"
   ]
  },
  {
   "cell_type": "code",
   "execution_count": 94,
   "id": "emerging-event",
   "metadata": {},
   "outputs": [
    {
     "data": {
      "text/html": [
       "<div>\n",
       "<style scoped>\n",
       "    .dataframe tbody tr th:only-of-type {\n",
       "        vertical-align: middle;\n",
       "    }\n",
       "\n",
       "    .dataframe tbody tr th {\n",
       "        vertical-align: top;\n",
       "    }\n",
       "\n",
       "    .dataframe thead th {\n",
       "        text-align: right;\n",
       "    }\n",
       "</style>\n",
       "<table border=\"1\" class=\"dataframe\">\n",
       "  <thead>\n",
       "    <tr style=\"text-align: right;\">\n",
       "      <th></th>\n",
       "      <th>countCats_x</th>\n",
       "      <th>countCats_y</th>\n",
       "    </tr>\n",
       "  </thead>\n",
       "  <tbody>\n",
       "    <tr>\n",
       "      <th>bench</th>\n",
       "      <td>7</td>\n",
       "      <td>715</td>\n",
       "    </tr>\n",
       "    <tr>\n",
       "      <th>boat</th>\n",
       "      <td>1</td>\n",
       "      <td>333</td>\n",
       "    </tr>\n",
       "    <tr>\n",
       "      <th>bottle</th>\n",
       "      <td>4</td>\n",
       "      <td>1065</td>\n",
       "    </tr>\n",
       "    <tr>\n",
       "      <th>building</th>\n",
       "      <td>2</td>\n",
       "      <td>6670</td>\n",
       "    </tr>\n",
       "    <tr>\n",
       "      <th>bus</th>\n",
       "      <td>1</td>\n",
       "      <td>271</td>\n",
       "    </tr>\n",
       "  </tbody>\n",
       "</table>\n",
       "</div>"
      ],
      "text/plain": [
       "          countCats_x  countCats_y\n",
       "bench               7          715\n",
       "boat                1          333\n",
       "bottle              4         1065\n",
       "building            2         6670\n",
       "bus                 1          271"
      ]
     },
     "execution_count": 94,
     "metadata": {},
     "output_type": "execute_result"
    }
   ],
   "source": [
    "countcats_all = countCats_missing.merge(countCats, left_index = True, right_index=True, how='inner')\n",
    "countcats_all.head()"
   ]
  },
  {
   "cell_type": "code",
   "execution_count": 95,
   "id": "aging-debut",
   "metadata": {},
   "outputs": [],
   "source": [
    "countcats_all['percent'] = countcats_all['countCats_x']/countcats_all['countCats_y']"
   ]
  },
  {
   "cell_type": "code",
   "execution_count": 99,
   "id": "another-liberal",
   "metadata": {},
   "outputs": [],
   "source": [
    "import pylab as P\n"
   ]
  },
  {
   "cell_type": "code",
   "execution_count": 101,
   "id": "fresh-rabbit",
   "metadata": {},
   "outputs": [
    {
     "data": {
      "image/png": "[encoded data removed]",
      "text/plain": [
       "<Figure size 640x480 with 1 Axes>"
      ]
     },
     "metadata": {
      "needs_background": "light"
     },
     "output_type": "display_data"
    }
   ],
   "source": [
    "P.figure(figsize=(8, 6), dpi=80)\n",
    "bp = P.boxplot(countcats_all['percent'])\n",
    "y = countcats_all['percent']\n",
    "x = np.random.normal(1, 0.04, size=len(y))\n",
    "P.plot(x, y, 'r.', alpha=0.2)\n",
    "P.show()"
   ]
  },
  {
   "cell_type": "code",
   "execution_count": 98,
   "id": "caring-clear",
   "metadata": {},
   "outputs": [
    {
     "data": {
      "text/plain": [
       "bench           0.009790\n",
       "boat            0.003003\n",
       "bottle          0.003756\n",
       "building        0.000300\n",
       "bus             0.003690\n",
       "cabinet         0.000948\n",
       "car             0.000288\n",
       "cup             0.001379\n",
       "desk            0.001319\n",
       "grass           0.000378\n",
       "jar             0.003135\n",
       "lamp            0.001181\n",
       "mountain        0.000542\n",
       "oven            0.001453\n",
       "pillow          0.000963\n",
       "plant           0.000451\n",
       "railing         0.004095\n",
       "road            0.000225\n",
       "rock            0.001171\n",
       "sea             0.004255\n",
       "stool           0.003914\n",
       "swivel_chair    0.002809\n",
       "table           0.000855\n",
       "toilet          0.002268\n",
       "tree            0.000547\n",
       "Name: percent, dtype: float64"
      ]
     },
     "execution_count": 98,
     "metadata": {},
     "output_type": "execute_result"
    }
   ],
   "source": []
  },
  {
   "cell_type": "code",
   "execution_count": null,
   "id": "standing-score",
   "metadata": {},
   "outputs": [],
   "source": []
  }
 ],
 "metadata": {
  "kernelspec": {
   "display_name": "Python 3",
   "language": "python",
   "name": "python3"
  },
  "language_info": {
   "codemirror_mode": {
    "name": "ipython",
    "version": 3
   },
   "file_extension": ".py",
   "mimetype": "text/x-python",
   "name": "python",
   "nbconvert_exporter": "python",
   "pygments_lexer": "ipython3",
   "version": "3.7.10"
  }
 },
 "nbformat": 4,
 "nbformat_minor": 5
}
