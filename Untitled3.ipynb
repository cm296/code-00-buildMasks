{
 "cells": [
  {
   "cell_type": "code",
   "execution_count": 1,
   "id": "found-marketplace",
   "metadata": {},
   "outputs": [],
   "source": [
    "import pandas as pd\n",
    "import numpy as np\n",
    "import ProduceMasks_wrapper as mask\n",
    "# import ProduceMasks_noparallel_2 as mask2\n",
    "from PIL import Image\n",
    "import time"
   ]
  },
  {
   "cell_type": "code",
   "execution_count": 2,
   "id": "unlimited-vocabulary",
   "metadata": {},
   "outputs": [],
   "source": [
    "Ade_subset = pd.read_csv(\"../Ade20K_labels/Ade20K_labels.txt\")"
   ]
  },
  {
   "cell_type": "code",
   "execution_count": 3,
   "id": "reserved-ministry",
   "metadata": {},
   "outputs": [],
   "source": [
    "Ade_cat = Ade_subset.loc[Ade_subset.object == 'beacon',:].reset_index()"
   ]
  },
  {
   "cell_type": "code",
   "execution_count": 4,
   "id": "substantial-poverty",
   "metadata": {},
   "outputs": [],
   "source": [
    "def makeDict_mod(p):\n",
    "    path = p.filepath+'/'+p.filename\n",
    "    s={}\n",
    "    s['filepath'] = path\n",
    "    s['category'] = p.object\n",
    "    return s"
   ]
  },
  {
   "cell_type": "code",
   "execution_count": 6,
   "id": "desperate-transport",
   "metadata": {},
   "outputs": [
    {
     "name": "stdout",
     "output_type": "stream",
     "text": [
      "Building mask for ../ADE20K/ADE20K_2016_07_26/images/training/c/coast/ADE_train_00000568\n",
      "Building mask for ../ADE20K/ADE20K_2016_07_26/images/training/c/coast/ADE_train_00005831\n",
      "Building mask for ../ADE20K/ADE20K_2016_07_26/images/training/c/coast/ADE_train_00005873\n",
      "Building mask for ../ADE20K/ADE20K_2016_07_26/images/training/l/lighthouse/ADE_train_00011023\n",
      "Building mask for ../ADE20K/ADE20K_2016_07_26/images/training/l/lighthouse/ADE_train_00011024\n",
      "Building mask for ../ADE20K/ADE20K_2016_07_26/images/training/l/lighthouse/ADE_train_00011025\n",
      "Building mask for ../ADE20K/ADE20K_2016_07_26/images/training/l/lighthouse/ADE_train_00011026\n",
      "Building mask for ../ADE20K/ADE20K_2016_07_26/images/training/l/lighthouse/ADE_train_00011027\n",
      "Building mask for ../ADE20K/ADE20K_2016_07_26/images/training/l/lighthouse/ADE_train_00011028\n",
      "Building mask for ../ADE20K/ADE20K_2016_07_26/images/training/l/lighthouse/ADE_train_00011029\n",
      "Building mask for ../ADE20K/ADE20K_2016_07_26/images/training/l/lighthouse/ADE_train_00011030\n",
      "Building mask for ../ADE20K/ADE20K_2016_07_26/images/training/l/lighthouse/ADE_train_00011031\n",
      "Building mask for ../ADE20K/ADE20K_2016_07_26/images/training/l/lighthouse/ADE_train_00011032\n",
      "Building mask for ../ADE20K/ADE20K_2016_07_26/images/training/l/lighthouse/ADE_train_00011033\n",
      "Building mask for ../ADE20K/ADE20K_2016_07_26/images/training/l/lighthouse/ADE_train_00011034\n",
      "Building mask for ../ADE20K/ADE20K_2016_07_26/images/training/l/lighthouse/ADE_train_00011035\n",
      "Building mask for ../ADE20K/ADE20K_2016_07_26/images/training/l/lighthouse/ADE_train_00011036\n",
      "Building mask for ../ADE20K/ADE20K_2016_07_26/images/training/l/lighthouse/ADE_train_00011037\n",
      "Building mask for ../ADE20K/ADE20K_2016_07_26/images/training/l/lighthouse/ADE_train_00011038\n",
      "Building mask for ../ADE20K/ADE20K_2016_07_26/images/training/l/lighthouse/ADE_train_00011039\n",
      "Building mask for ../ADE20K/ADE20K_2016_07_26/images/training/l/lighthouse/ADE_train_00011040\n",
      "Building mask for ../ADE20K/ADE20K_2016_07_26/images/training/l/lighthouse/ADE_train_00011041\n",
      "Building mask for ../ADE20K/ADE20K_2016_07_26/images/training/l/lighthouse/ADE_train_00011043\n",
      "Building mask for ../ADE20K/ADE20K_2016_07_26/images/training/l/lighthouse/ADE_train_00011044\n",
      "_atr file mislabeled for this object for cat and file:  beacon ../ADE20K/ADE20K_2016_07_26/images/training/l/lighthouse/ADE_train_00011044\n",
      "not mask possible\n",
      "Building mask for ../ADE20K/ADE20K_2016_07_26/images/training/l/lighthouse/ADE_train_00011045\n",
      "Building mask for ../ADE20K/ADE20K_2016_07_26/images/training/l/lighthouse/ADE_train_00011046\n",
      "Building mask for ../ADE20K/ADE20K_2016_07_26/images/training/l/lighthouse/ADE_train_00011047\n",
      "Building mask for ../ADE20K/ADE20K_2016_07_26/images/training/l/lighthouse/ADE_train_00011048\n",
      "Building mask for ../ADE20K/ADE20K_2016_07_26/images/training/l/lighthouse/ADE_train_00011049\n",
      "Building mask for ../ADE20K/ADE20K_2016_07_26/images/training/l/lighthouse/ADE_train_00011050\n",
      "Building mask for ../ADE20K/ADE20K_2016_07_26/images/training/l/lighthouse/ADE_train_00011051\n",
      "Building mask for ../ADE20K/ADE20K_2016_07_26/images/training/l/lighthouse/ADE_train_00011052\n",
      "Building mask for ../ADE20K/ADE20K_2016_07_26/images/training/l/lighthouse/ADE_train_00011053\n",
      "Building mask for ../ADE20K/ADE20K_2016_07_26/images/training/l/lighthouse/ADE_train_00011054\n",
      "Building mask for ../ADE20K/ADE20K_2016_07_26/images/training/l/lighthouse/ADE_train_00011056\n",
      "Building mask for ../ADE20K/ADE20K_2016_07_26/images/training/l/lighthouse/ADE_train_00011057\n",
      "Building mask for ../ADE20K/ADE20K_2016_07_26/images/training/l/lighthouse/ADE_train_00011058\n",
      "Building mask for ../ADE20K/ADE20K_2016_07_26/images/training/l/lighthouse/ADE_train_00011059\n",
      "Building mask for ../ADE20K/ADE20K_2016_07_26/images/training/l/lighthouse/ADE_train_00011060\n",
      "Building mask for ../ADE20K/ADE20K_2016_07_26/images/training/l/lighthouse/ADE_train_00011061\n",
      "Building mask for ../ADE20K/ADE20K_2016_07_26/images/training/l/lighthouse/ADE_train_00011062\n",
      "Building mask for ../ADE20K/ADE20K_2016_07_26/images/training/l/lighthouse/ADE_train_00011063\n",
      "Building mask for ../ADE20K/ADE20K_2016_07_26/images/training/l/lighthouse/ADE_train_00011064\n",
      "Building mask for ../ADE20K/ADE20K_2016_07_26/images/training/misc/ADE_train_00013232\n",
      "Building mask for ../ADE20K/ADE20K_2016_07_26/images/training/misc/ADE_train_00013510\n",
      "Building mask for ../ADE20K/ADE20K_2016_07_26/images/training/misc/ADE_train_00013513\n",
      "Building mask for ../ADE20K/ADE20K_2016_07_26/images/training/misc/ADE_train_00013605\n",
      "Building mask for ../ADE20K/ADE20K_2016_07_26/images/training/misc/ADE_train_00013721\n",
      "Building mask for ../ADE20K/ADE20K_2016_07_26/images/training/misc/ADE_train_00013761\n",
      "Building mask for ../ADE20K/ADE20K_2016_07_26/images/training/outliers/water_gate/ADE_train_00014914\n",
      "Building mask for ../ADE20K/ADE20K_2016_07_26/images/validation/l/lighthouse/ADE_val_00000501\n",
      "Building mask for ../ADE20K/ADE20K_2016_07_26/images/validation/l/lighthouse/ADE_val_00000502\n",
      "Building mask for ../ADE20K/ADE20K_2016_07_26/images/validation/l/lighthouse/ADE_val_00000503\n",
      "Building mask for ../ADE20K/ADE20K_2016_07_26/images/validation/l/lighthouse/ADE_val_00001501\n",
      "Building mask for ../ADE20K/ADE20K_2016_07_26/images/validation/l/lighthouse/ADE_val_00001502\n",
      "_atr file mislabeled for this object for cat and file:  beacon ../ADE20K/ADE20K_2016_07_26/images/validation/l/lighthouse/ADE_val_00001502\n",
      "not mask possible\n"
     ]
    }
   ],
   "source": [
    "timestr = time.strftime(\"%Y%m%d-%H%M%S\")\n",
    "for i in Ade_cat.iterrows():\n",
    "    mask.create_mask(makeDict_mod(i[1]),'scene',timestr)"
   ]
  },
  {
   "cell_type": "code",
   "execution_count": null,
   "id": "incorporated-socket",
   "metadata": {},
   "outputs": [],
   "source": []
  }
 ],
 "metadata": {
  "kernelspec": {
   "display_name": "Python 3",
   "language": "python",
   "name": "python3"
  },
  "language_info": {
   "codemirror_mode": {
    "name": "ipython",
    "version": 3
   },
   "file_extension": ".py",
   "mimetype": "text/x-python",
   "name": "python",
   "nbconvert_exporter": "python",
   "pygments_lexer": "ipython3",
   "version": "3.7.10"
  }
 },
 "nbformat": 4,
 "nbformat_minor": 5
}
