{
 "cells": [
  {
   "cell_type": "code",
   "execution_count": 31,
   "id": "former-cuisine",
   "metadata": {},
   "outputs": [],
   "source": [
    "import pandas as pd\n",
    "import numpy as np\n",
    "import pylab as P\n"
   ]
  },
  {
   "cell_type": "code",
   "execution_count": 2,
   "id": "affecting-maryland",
   "metadata": {},
   "outputs": [],
   "source": [
    "newdf = pd.read_csv('../Ade20K_labels/Ade20K_labels_local_scene_subset_resampled.txt')   "
   ]
  },
  {
   "cell_type": "code",
   "execution_count": 22,
   "id": "dressed-bedroom",
   "metadata": {},
   "outputs": [],
   "source": [
    "objByList = pd.DataFrame({'CountFiles':newdf.groupby('object').filename.unique()})"
   ]
  },
  {
   "cell_type": "code",
   "execution_count": 23,
   "id": "casual-packet",
   "metadata": {},
   "outputs": [],
   "source": [
    "objTotal = newdf.groupby('object').filename.count()"
   ]
  },
  {
   "cell_type": "code",
   "execution_count": 28,
   "id": "irish-species",
   "metadata": {},
   "outputs": [
    {
     "data": {
      "text/plain": [
       "object\n",
       "airplane      47\n",
       "armchair    1024\n",
       "bathtub      273\n",
       "beacon        12\n",
       "bed          253\n",
       "            ... \n",
       "tray         491\n",
       "tree        2808\n",
       "truck        450\n",
       "van          599\n",
       "vase        1387\n",
       "Name: CountFiles, Length: 81, dtype: int64"
      ]
     },
     "execution_count": 28,
     "metadata": {},
     "output_type": "execute_result"
    }
   ],
   "source": [
    "objByList['CountFiles'].str.len()"
   ]
  },
  {
   "cell_type": "code",
   "execution_count": 32,
   "id": "vulnerable-prediction",
   "metadata": {},
   "outputs": [],
   "source": [
    "PercentUnique = pd.DataFrame ({'CountObj' : objByList['CountFiles'].str.len()/objTotal})"
   ]
  },
  {
   "cell_type": "code",
   "execution_count": 34,
   "id": "collected-dylan",
   "metadata": {},
   "outputs": [
    {
     "data": {
      "image/png": "[encoded data removed]",
      "text/plain": [
       "<Figure size 640x480 with 1 Axes>"
      ]
     },
     "metadata": {
      "needs_background": "light"
     },
     "output_type": "display_data"
    }
   ],
   "source": [
    "P.figure(figsize=(8, 6), dpi=80)\n",
    "bp = P.boxplot(PercentUnique['CountObj'])\n",
    "y = PercentUnique['CountObj']\n",
    "x = np.random.normal(1, 0.04, size=len(y))\n",
    "P.plot(x, y, 'r.', alpha=0.2)\n",
    "P.show()"
   ]
  },
  {
   "cell_type": "code",
   "execution_count": 4,
   "id": "fundamental-buying",
   "metadata": {},
   "outputs": [],
   "source": [
    "Ade_subset = pd.read_csv(\"../Ade20K_labels/Ade20K_labels_local_scene_subset.txt\")"
   ]
  },
  {
   "cell_type": "code",
   "execution_count": 5,
   "id": "minimal-tuner",
   "metadata": {},
   "outputs": [
    {
     "data": {
      "text/html": [
       "<div>\n",
       "<style scoped>\n",
       "    .dataframe tbody tr th:only-of-type {\n",
       "        vertical-align: middle;\n",
       "    }\n",
       "\n",
       "    .dataframe tbody tr th {\n",
       "        vertical-align: top;\n",
       "    }\n",
       "\n",
       "    .dataframe thead th {\n",
       "        text-align: right;\n",
       "    }\n",
       "</style>\n",
       "<table border=\"1\" class=\"dataframe\">\n",
       "  <thead>\n",
       "    <tr style=\"text-align: right;\">\n",
       "      <th></th>\n",
       "      <th>Unnamed: 0</th>\n",
       "      <th>condition</th>\n",
       "      <th>object</th>\n",
       "      <th>filepath</th>\n",
       "      <th>filename</th>\n",
       "      <th>scene</th>\n",
       "    </tr>\n",
       "  </thead>\n",
       "  <tbody>\n",
       "    <tr>\n",
       "      <th>0</th>\n",
       "      <td>0</td>\n",
       "      <td>1</td>\n",
       "      <td>airplane</td>\n",
       "      <td>../../adeContext-datasets/ADE20K/ADE20K_2016_0...</td>\n",
       "      <td>ADE_train_00001024</td>\n",
       "      <td>air_base</td>\n",
       "    </tr>\n",
       "    <tr>\n",
       "      <th>1</th>\n",
       "      <td>1</td>\n",
       "      <td>1</td>\n",
       "      <td>airplane</td>\n",
       "      <td>../../adeContext-datasets/ADE20K/ADE20K_2016_0...</td>\n",
       "      <td>ADE_train_00001025</td>\n",
       "      <td>air_base</td>\n",
       "    </tr>\n",
       "    <tr>\n",
       "      <th>2</th>\n",
       "      <td>2</td>\n",
       "      <td>1</td>\n",
       "      <td>airplane</td>\n",
       "      <td>../../adeContext-datasets/ADE20K/ADE20K_2016_0...</td>\n",
       "      <td>ADE_train_00001026</td>\n",
       "      <td>air_base</td>\n",
       "    </tr>\n",
       "    <tr>\n",
       "      <th>3</th>\n",
       "      <td>3</td>\n",
       "      <td>1</td>\n",
       "      <td>airplane</td>\n",
       "      <td>../../adeContext-datasets/ADE20K/ADE20K_2016_0...</td>\n",
       "      <td>ADE_train_00001027</td>\n",
       "      <td>air_base</td>\n",
       "    </tr>\n",
       "    <tr>\n",
       "      <th>4</th>\n",
       "      <td>4</td>\n",
       "      <td>1</td>\n",
       "      <td>airplane</td>\n",
       "      <td>../../adeContext-datasets/ADE20K/ADE20K_2016_0...</td>\n",
       "      <td>ADE_train_00001028</td>\n",
       "      <td>air_base</td>\n",
       "    </tr>\n",
       "    <tr>\n",
       "      <th>...</th>\n",
       "      <td>...</td>\n",
       "      <td>...</td>\n",
       "      <td>...</td>\n",
       "      <td>...</td>\n",
       "      <td>...</td>\n",
       "      <td>...</td>\n",
       "    </tr>\n",
       "    <tr>\n",
       "      <th>80946</th>\n",
       "      <td>80946</td>\n",
       "      <td>81</td>\n",
       "      <td>vase</td>\n",
       "      <td>../../adeContext-datasets/ADE20K/ADE20K_2016_0...</td>\n",
       "      <td>ADE_val_00001965</td>\n",
       "      <td>living_room</td>\n",
       "    </tr>\n",
       "    <tr>\n",
       "      <th>80947</th>\n",
       "      <td>80947</td>\n",
       "      <td>81</td>\n",
       "      <td>vase</td>\n",
       "      <td>../../adeContext-datasets/ADE20K/ADE20K_2016_0...</td>\n",
       "      <td>ADE_val_00001966</td>\n",
       "      <td>living_room</td>\n",
       "    </tr>\n",
       "    <tr>\n",
       "      <th>80948</th>\n",
       "      <td>80948</td>\n",
       "      <td>81</td>\n",
       "      <td>vase</td>\n",
       "      <td>../../adeContext-datasets/ADE20K/ADE20K_2016_0...</td>\n",
       "      <td>ADE_val_00001967</td>\n",
       "      <td>living_room</td>\n",
       "    </tr>\n",
       "    <tr>\n",
       "      <th>80949</th>\n",
       "      <td>80949</td>\n",
       "      <td>81</td>\n",
       "      <td>vase</td>\n",
       "      <td>../../adeContext-datasets/ADE20K/ADE20K_2016_0...</td>\n",
       "      <td>ADE_val_00001968</td>\n",
       "      <td>living_room</td>\n",
       "    </tr>\n",
       "    <tr>\n",
       "      <th>80950</th>\n",
       "      <td>80950</td>\n",
       "      <td>81</td>\n",
       "      <td>vase</td>\n",
       "      <td>../../adeContext-datasets/ADE20K/ADE20K_2016_0...</td>\n",
       "      <td>ADE_val_00001969</td>\n",
       "      <td>living_room</td>\n",
       "    </tr>\n",
       "  </tbody>\n",
       "</table>\n",
       "<p>80951 rows × 6 columns</p>\n",
       "</div>"
      ],
      "text/plain": [
       "       Unnamed: 0  condition    object  \\\n",
       "0               0          1  airplane   \n",
       "1               1          1  airplane   \n",
       "2               2          1  airplane   \n",
       "3               3          1  airplane   \n",
       "4               4          1  airplane   \n",
       "...           ...        ...       ...   \n",
       "80946       80946         81      vase   \n",
       "80947       80947         81      vase   \n",
       "80948       80948         81      vase   \n",
       "80949       80949         81      vase   \n",
       "80950       80950         81      vase   \n",
       "\n",
       "                                                filepath            filename  \\\n",
       "0      ../../adeContext-datasets/ADE20K/ADE20K_2016_0...  ADE_train_00001024   \n",
       "1      ../../adeContext-datasets/ADE20K/ADE20K_2016_0...  ADE_train_00001025   \n",
       "2      ../../adeContext-datasets/ADE20K/ADE20K_2016_0...  ADE_train_00001026   \n",
       "3      ../../adeContext-datasets/ADE20K/ADE20K_2016_0...  ADE_train_00001027   \n",
       "4      ../../adeContext-datasets/ADE20K/ADE20K_2016_0...  ADE_train_00001028   \n",
       "...                                                  ...                 ...   \n",
       "80946  ../../adeContext-datasets/ADE20K/ADE20K_2016_0...    ADE_val_00001965   \n",
       "80947  ../../adeContext-datasets/ADE20K/ADE20K_2016_0...    ADE_val_00001966   \n",
       "80948  ../../adeContext-datasets/ADE20K/ADE20K_2016_0...    ADE_val_00001967   \n",
       "80949  ../../adeContext-datasets/ADE20K/ADE20K_2016_0...    ADE_val_00001968   \n",
       "80950  ../../adeContext-datasets/ADE20K/ADE20K_2016_0...    ADE_val_00001969   \n",
       "\n",
       "             scene  \n",
       "0         air_base  \n",
       "1         air_base  \n",
       "2         air_base  \n",
       "3         air_base  \n",
       "4         air_base  \n",
       "...            ...  \n",
       "80946  living_room  \n",
       "80947  living_room  \n",
       "80948  living_room  \n",
       "80949  living_room  \n",
       "80950  living_room  \n",
       "\n",
       "[80951 rows x 6 columns]"
      ]
     },
     "execution_count": 5,
     "metadata": {},
     "output_type": "execute_result"
    }
   ],
   "source": [
    "Ade_subset"
   ]
  },
  {
   "cell_type": "code",
   "execution_count": null,
   "id": "funky-member",
   "metadata": {},
   "outputs": [],
   "source": []
  }
 ],
 "metadata": {
  "kernelspec": {
   "display_name": "Python 3",
   "language": "python",
   "name": "python3"
  },
  "language_info": {
   "codemirror_mode": {
    "name": "ipython",
    "version": 3
   },
   "file_extension": ".py",
   "mimetype": "text/x-python",
   "name": "python",
   "nbconvert_exporter": "python",
   "pygments_lexer": "ipython3",
   "version": "3.7.10"
  }
 },
 "nbformat": 4,
 "nbformat_minor": 5
}
