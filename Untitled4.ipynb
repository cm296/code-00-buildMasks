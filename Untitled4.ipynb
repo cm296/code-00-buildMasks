{
 "cells": [
  {
   "cell_type": "code",
   "execution_count": 1,
   "id": "identical-reset",
   "metadata": {},
   "outputs": [],
   "source": [
    "import os\n",
    "import pandas as pd\n",
    "from tqdm import tqdm\n",
    "import matplotlib.pyplot as plt\n",
    "import numpy as np\n",
    "import ProduceNewMasks as msk\n",
    "import ProcessSegMask as atr\n",
    "import csv\n",
    "import time"
   ]
  },
  {
   "cell_type": "code",
   "execution_count": 2,
   "id": "posted-dylan",
   "metadata": {},
   "outputs": [],
   "source": [
    "local = 1\n",
    "SaveFolder = 'masks-ade-4'\n"
   ]
  },
  {
   "cell_type": "code",
   "execution_count": 5,
   "id": "expired-direction",
   "metadata": {},
   "outputs": [],
   "source": [
    "Ade_subset = pd.read_csv(\"../Ade20K_labels/Ade20K_labels_local_scene.txt\")"
   ]
  },
  {
   "cell_type": "code",
   "execution_count": 12,
   "id": "peaceful-visibility",
   "metadata": {},
   "outputs": [],
   "source": [
    "obj_count_byscene = pd.DataFrame({'obj_count_byscene': Ade_subset.groupby(['object','scene']).object.count()})"
   ]
  },
  {
   "cell_type": "code",
   "execution_count": 37,
   "id": "equivalent-champagne",
   "metadata": {},
   "outputs": [
    {
     "data": {
      "text/plain": [
       "Index(['air_base', 'airfield', 'airport/airport', 'airport_terminal',\n",
       "       'amusement_park', 'apse/outdoor', 'arrival_gate/outdoor', 'badlands',\n",
       "       'cockpit', 'control_tower/outdoor',\n",
       "       ...\n",
       "       'staircase', 'street', 'sushi_bar', 'tearoom', 'utility_room',\n",
       "       'waiting_room', 'wet_bar', 'window_seat', 'youth_hostel',\n",
       "       '~not labeled'],\n",
       "      dtype='object', name='scene', length=7595)"
      ]
     },
     "execution_count": 37,
     "metadata": {},
     "output_type": "execute_result"
    }
   ],
   "source": [
    "obj_count_byscene.index.get_level_values(0)\n",
    "obj_count_byscene.index.get_level_values(1)"
   ]
  },
  {
   "cell_type": "code",
   "execution_count": 13,
   "id": "consistent-indication",
   "metadata": {},
   "outputs": [],
   "source": [
    "scene_count_byobject = pd.DataFrame({'scene_count_byobject':Ade_subset.groupby(['scene']).scene.count()})"
   ]
  },
  {
   "cell_type": "code",
   "execution_count": 23,
   "id": "lesser-supervisor",
   "metadata": {},
   "outputs": [
    {
     "data": {
      "text/html": [
       "<div>\n",
       "<style scoped>\n",
       "    .dataframe tbody tr th:only-of-type {\n",
       "        vertical-align: middle;\n",
       "    }\n",
       "\n",
       "    .dataframe tbody tr th {\n",
       "        vertical-align: top;\n",
       "    }\n",
       "\n",
       "    .dataframe thead th {\n",
       "        text-align: right;\n",
       "    }\n",
       "</style>\n",
       "<table border=\"1\" class=\"dataframe\">\n",
       "  <thead>\n",
       "    <tr style=\"text-align: right;\">\n",
       "      <th></th>\n",
       "      <th>obj_count_byscene</th>\n",
       "    </tr>\n",
       "    <tr>\n",
       "      <th>scene</th>\n",
       "      <th></th>\n",
       "    </tr>\n",
       "  </thead>\n",
       "  <tbody>\n",
       "    <tr>\n",
       "      <th>air_base</th>\n",
       "      <td>9</td>\n",
       "    </tr>\n",
       "    <tr>\n",
       "      <th>airfield</th>\n",
       "      <td>7</td>\n",
       "    </tr>\n",
       "    <tr>\n",
       "      <th>airport/airport</th>\n",
       "      <td>13</td>\n",
       "    </tr>\n",
       "    <tr>\n",
       "      <th>airport_terminal</th>\n",
       "      <td>1</td>\n",
       "    </tr>\n",
       "    <tr>\n",
       "      <th>amusement_park</th>\n",
       "      <td>1</td>\n",
       "    </tr>\n",
       "    <tr>\n",
       "      <th>apse/outdoor</th>\n",
       "      <td>1</td>\n",
       "    </tr>\n",
       "    <tr>\n",
       "      <th>arrival_gate/outdoor</th>\n",
       "      <td>36</td>\n",
       "    </tr>\n",
       "    <tr>\n",
       "      <th>badlands</th>\n",
       "      <td>1</td>\n",
       "    </tr>\n",
       "    <tr>\n",
       "      <th>cockpit</th>\n",
       "      <td>3</td>\n",
       "    </tr>\n",
       "    <tr>\n",
       "      <th>control_tower/outdoor</th>\n",
       "      <td>2</td>\n",
       "    </tr>\n",
       "    <tr>\n",
       "      <th>escalator/indoor</th>\n",
       "      <td>1</td>\n",
       "    </tr>\n",
       "    <tr>\n",
       "      <th>fjord</th>\n",
       "      <td>1</td>\n",
       "    </tr>\n",
       "    <tr>\n",
       "      <th>hangar/indoor</th>\n",
       "      <td>8</td>\n",
       "    </tr>\n",
       "    <tr>\n",
       "      <th>hangar/outdoor</th>\n",
       "      <td>4</td>\n",
       "    </tr>\n",
       "    <tr>\n",
       "      <th>heliport</th>\n",
       "      <td>1</td>\n",
       "    </tr>\n",
       "    <tr>\n",
       "      <th>highway</th>\n",
       "      <td>1</td>\n",
       "    </tr>\n",
       "    <tr>\n",
       "      <th>landing_deck</th>\n",
       "      <td>23</td>\n",
       "    </tr>\n",
       "    <tr>\n",
       "      <th>museum/indoor</th>\n",
       "      <td>3</td>\n",
       "    </tr>\n",
       "    <tr>\n",
       "      <th>runway</th>\n",
       "      <td>11</td>\n",
       "    </tr>\n",
       "    <tr>\n",
       "      <th>science_museum</th>\n",
       "      <td>1</td>\n",
       "    </tr>\n",
       "    <tr>\n",
       "      <th>skyscraper</th>\n",
       "      <td>2</td>\n",
       "    </tr>\n",
       "    <tr>\n",
       "      <th>taxiway</th>\n",
       "      <td>2</td>\n",
       "    </tr>\n",
       "    <tr>\n",
       "      <th>~not labeled</th>\n",
       "      <td>16</td>\n",
       "    </tr>\n",
       "  </tbody>\n",
       "</table>\n",
       "</div>"
      ],
      "text/plain": [
       "                       obj_count_byscene\n",
       "scene                                   \n",
       "air_base                               9\n",
       "airfield                               7\n",
       "airport/airport                       13\n",
       "airport_terminal                       1\n",
       "amusement_park                         1\n",
       "apse/outdoor                           1\n",
       "arrival_gate/outdoor                  36\n",
       "badlands                               1\n",
       "cockpit                                3\n",
       "control_tower/outdoor                  2\n",
       "escalator/indoor                       1\n",
       "fjord                                  1\n",
       "hangar/indoor                          8\n",
       "hangar/outdoor                         4\n",
       "heliport                               1\n",
       "highway                                1\n",
       "landing_deck                          23\n",
       "museum/indoor                          3\n",
       "runway                                11\n",
       "science_museum                         1\n",
       "skyscraper                             2\n",
       "taxiway                                2\n",
       "~not labeled                          16"
      ]
     },
     "execution_count": 23,
     "metadata": {},
     "output_type": "execute_result"
    }
   ],
   "source": [
    "for i in np.unique(obj_count_byscene.index.get_level_values(0)):\n",
    "    obj_count_byscene.loc[i]"
   ]
  },
  {
   "cell_type": "code",
   "execution_count": null,
   "id": "intellectual-router",
   "metadata": {},
   "outputs": [],
   "source": []
  }
 ],
 "metadata": {
  "kernelspec": {
   "display_name": "Python 3",
   "language": "python",
   "name": "python3"
  },
  "language_info": {
   "codemirror_mode": {
    "name": "ipython",
    "version": 3
   },
   "file_extension": ".py",
   "mimetype": "text/x-python",
   "name": "python",
   "nbconvert_exporter": "python",
   "pygments_lexer": "ipython3",
   "version": "3.7.10"
  }
 },
 "nbformat": 4,
 "nbformat_minor": 5
}
