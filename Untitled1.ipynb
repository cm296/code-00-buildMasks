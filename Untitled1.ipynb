{
 "cells": [
  {
   "cell_type": "code",
   "execution_count": 1,
   "id": "determined-owner",
   "metadata": {},
   "outputs": [],
   "source": [
    "import ProduceMasks_noparallel_2 as mask"
   ]
  },
  {
   "cell_type": "code",
   "execution_count": 2,
   "id": "centered-throat",
   "metadata": {},
   "outputs": [],
   "source": [
    "masktype = 'maskGray'"
   ]
  },
  {
   "cell_type": "code",
   "execution_count": 3,
   "id": "foster-raising",
   "metadata": {},
   "outputs": [
    {
     "ename": "TypeError",
     "evalue": "saveImageMasks() got an unexpected keyword argument 'masktype'",
     "output_type": "error",
     "traceback": [
      "\u001b[0;31m---------------------------------------------------------------------------\u001b[0m",
      "\u001b[0;31mTypeError\u001b[0m                                 Traceback (most recent call last)",
      "\u001b[0;32m<ipython-input-3-68487c32214a>\u001b[0m in \u001b[0;36m<module>\u001b[0;34m\u001b[0m\n\u001b[0;32m----> 1\u001b[0;31m \u001b[0mmask\u001b[0m\u001b[0;34m.\u001b[0m\u001b[0msaveImageMasks\u001b[0m\u001b[0;34m(\u001b[0m\u001b[0mmasktype\u001b[0m \u001b[0;34m=\u001b[0m \u001b[0mmasktype\u001b[0m\u001b[0;34m)\u001b[0m\u001b[0;34m\u001b[0m\u001b[0;34m\u001b[0m\u001b[0m\n\u001b[0m",
      "\u001b[0;31mTypeError\u001b[0m: saveImageMasks() got an unexpected keyword argument 'masktype'"
     ]
    }
   ],
   "source": [
    "mask.saveImageMasks(masktype = masktype)"
   ]
  },
  {
   "cell_type": "code",
   "execution_count": null,
   "id": "advance-heater",
   "metadata": {},
   "outputs": [],
   "source": []
  }
 ],
 "metadata": {
  "kernelspec": {
   "display_name": "Python 3",
   "language": "python",
   "name": "python3"
  },
  "language_info": {
   "codemirror_mode": {
    "name": "ipython",
    "version": 3
   },
   "file_extension": ".py",
   "mimetype": "text/x-python",
   "name": "python",
   "nbconvert_exporter": "python",
   "pygments_lexer": "ipython3",
   "version": "3.7.10"
  }
 },
 "nbformat": 4,
 "nbformat_minor": 5
}
