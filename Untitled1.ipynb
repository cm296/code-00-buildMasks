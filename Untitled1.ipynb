{
 "cells": [
  {
   "cell_type": "code",
   "execution_count": 4,
   "id": "seventh-chain",
   "metadata": {},
   "outputs": [],
   "source": [
    "import ProduceMasks_noparallel_2 as mask"
   ]
  },
  {
   "cell_type": "code",
   "execution_count": 5,
   "id": "portuguese-column",
   "metadata": {},
   "outputs": [],
   "source": [
    "masktype = 'maskGray'"
   ]
  },
  {
   "cell_type": "code",
   "execution_count": 6,
   "id": "relative-gossip",
   "metadata": {},
   "outputs": [
    {
     "name": "stderr",
     "output_type": "stream",
     "text": [
      " 16%|█▌        | 13/81 [1:20:03<6:30:00, 344.13s/it]"
     ]
    },
    {
     "name": "stdout",
     "output_type": "stream",
     "text": [
      "no match found for  building\n",
      "newgroup ['building', 'skyscrapers']\n",
      "np.unique(atr.index): ['balcony' 'sky' 'skyscraper' 'street light' 'tree' 'window']\n",
      "no match found for  building\n",
      "newgroup ['building', 'skyscrapers']\n",
      "np.unique(atr.index): ['sky' 'skyscraper' 'trees']\n",
      "no match found for  building\n",
      "newgroup ['building', 'skyscrapers']\n",
      "np.unique(atr.index): ['signs' 'sky' 'skyscraper']\n",
      "no match found for  building\n",
      "newgroup ['building', 'skyscrapers']\n",
      "np.unique(atr.index): ['boats' 'mast' 'river water' 'sky' 'skyscraper' 'trees']\n",
      "no match found for  building\n",
      "newgroup ['building', 'skyscrapers']\n",
      "np.unique(atr.index): ['sky' 'skyscraper']\n",
      "no match found for  building\n",
      "newgroup ['building', 'skyscrapers']\n",
      "np.unique(atr.index): ['sky' 'skyscraper' 'tree' 'trees']\n",
      "no match found for  building\n",
      "newgroup ['building', 'skyscrapers']\n",
      "np.unique(atr.index): ['mast' 'sky' 'skyscraper']\n",
      "no match found for  building\n",
      "newgroup ['building', 'skyscrapers']\n",
      "np.unique(atr.index): ['sky' 'skyscraper' 'window']\n",
      "no match found for  building\n",
      "newgroup ['building', 'skyscrapers']\n",
      "np.unique(atr.index): ['sky' 'skyscraper' 'trees']\n",
      "no match found for  building\n",
      "newgroup ['building', 'skyscrapers']\n",
      "np.unique(atr.index): ['sky' 'skyscraper' 'window']\n",
      "no match found for  building\n",
      "newgroup ['building', 'skyscrapers']\n",
      "np.unique(atr.index): ['sky' 'skyscraper' 'street light']\n",
      "no match found for  building\n",
      "newgroup ['building', 'skyscrapers']\n",
      "np.unique(atr.index): ['door' 'sky' 'skyscraper' 'statue' 'windows']\n",
      "no match found for  building\n",
      "newgroup ['building', 'skyscrapers']\n",
      "np.unique(atr.index): ['sky' 'skyscraper']\n",
      "no match found for  building\n",
      "newgroup ['building', 'skyscrapers']\n",
      "np.unique(atr.index): ['sky' 'skyscraper' 'tree' 'window']\n"
     ]
    },
    {
     "name": "stderr",
     "output_type": "stream",
     "text": [
      " 44%|████▍     | 36/81 [4:22:22<2:12:55, 177.23s/it]  "
     ]
    },
    {
     "name": "stdout",
     "output_type": "stream",
     "text": [
      "no match found for  knife\n",
      "newgroup ['knife', 'utensils']\n",
      "np.unique(atr.index): ['bottle' 'button panel' 'cabinet' 'chest of drawers' 'door' 'drawer'\n",
      " 'extractor hood' 'floor' 'handle' 'kitchen utensils' 'oven'\n",
      " 'refrigerator' 'salt pepper cellar' 'sink' 'stove' 'switch' 'wall'\n",
      " 'window' 'work surface']\n",
      "no match found for  knife\n",
      "newgroup ['knife', 'utensils']\n",
      "np.unique(atr.index): ['back' 'basket' 'baskets' 'bottle' 'bottles' 'bowl' 'cabinet' 'ceiling'\n",
      " 'chair' 'clock' 'cloth' 'coffee cup' 'curtain' 'dishcloth' 'dishwasher'\n",
      " 'door' 'drawer' 'face' 'faucet' 'floor' 'flowerpot' 'flowers' 'front'\n",
      " 'fruit' 'hand' 'jar' 'kitchen island' 'kitchen utensils' 'knob' 'leg'\n",
      " 'mill' 'napkin' 'panel' 'pendant lamp' 'picture' 'plant' 'plate'\n",
      " 'pumpkin' 'rail' 'refrigerator' 'shade' 'shelf' 'side' 'sink' 'soap dish'\n",
      " 'spindle' 'stile' 'stove' 'teapot' 'top' 'tray' 'tube' 'tureen' 'vase'\n",
      " 'wall' 'window' 'work surface']\n"
     ]
    },
    {
     "name": "stderr",
     "output_type": "stream",
     "text": [
      " 60%|██████    | 49/81 [5:15:02<1:08:12, 127.89s/it]"
     ]
    },
    {
     "name": "stdout",
     "output_type": "stream",
     "text": [
      "no match found for  oven\n",
      "newgroup ['oven', 'stove']\n",
      "np.unique(atr.index): ['back' 'basket' 'book' 'bottle' 'bottle rack' 'bowl' 'cabinet' 'canopy'\n",
      " 'ceiling' 'ceiling recessed light' 'chair' 'chest of drawers'\n",
      " 'coffee maker' 'crock' 'curtain' 'dishwasher' 'door' 'door frame'\n",
      " 'drawer' 'extractor hood' 'faucet' 'floor' 'flowers' 'front' 'fruits'\n",
      " 'handle' 'kitchen island' 'knob' 'leg' 'mug' 'muntin' 'outlet' 'pane'\n",
      " 'paper towels' 'pendant lamp' 'pot' 'range' 'refrigerator' 'seat' 'shade'\n",
      " 'side' 'sink' 'skirt' 'stool' 'switch' 'top' 'tube' 'vase' 'wall'\n",
      " 'window' 'work surface']\n",
      "no match found for  oven\n",
      "newgroup ['oven', 'stove']\n",
      "np.unique(atr.index): ['books' 'bowl' 'button panel' 'cabinet' 'ceiling'\n",
      " 'ceiling recessed light' 'chair' 'coffee maker' 'counter' 'cup maker'\n",
      " 'cushion' 'dishwasher' 'door' 'door frame' 'faucet' 'floor' 'flowerpot'\n",
      " 'flowers' 'outlet' 'plants' 'plug' 'range' 'shelves' 'sink' 'sofa'\n",
      " 'table' 'tray' 'vase' 'wall' 'window' 'work surface']\n",
      "no match found for  oven\n",
      "newgroup ['oven', 'stove']\n",
      "np.unique(atr.index): ['armchair' 'backplate' 'base' 'cabinet' 'ceiling' 'ceiling fan' 'chair'\n",
      " 'column' 'diffusor' 'door' 'door frame' 'faucet' 'floor' 'light switch'\n",
      " 'light troffer' 'outlet' 'picture' 'poster' 'range' 'shade' 'side table'\n",
      " 'sink' 'skirt' 'table' 'table lamp' 'telephone' 'utensils canister'\n",
      " 'wall' 'work surface']\n",
      "no match found for  oven\n",
      "newgroup ['oven', 'stove']\n",
      "np.unique(atr.index): ['back' 'button panel' 'cabinet' 'ceiling' 'curtain' 'door' 'drawer'\n",
      " 'floor' 'flush mount light' 'handle' 'hinge' 'leg' 'outlet' 'pane' 'rail'\n",
      " 'range' 'refrigerator' 'seat' 'sink' 'skylight' 'sofa' 'stile' 'table'\n",
      " 'top' 'wall' 'window' 'work surface']\n",
      "no match found for  oven\n",
      "newgroup ['oven', 'stove']\n",
      "np.unique(atr.index): ['back' 'blade' 'cabinet' 'ceiling' 'ceiling fan' 'chair' 'chest'\n",
      " 'curtain' 'floor' 'flowers' 'frame' 'leg' 'microwave' 'motor' 'outlet'\n",
      " 'pendant lamp' 'pet dish' 'picture' 'place mat' 'plant' 'range' 'rug'\n",
      " 'seat' 'switch' 'table' 'vase' 'wall' 'window']\n",
      "no match found for  oven\n",
      "newgroup ['oven', 'stove']\n",
      "np.unique(atr.index): ['cabinet' 'ceiling' 'ceiling recessed light' 'door' 'faucet' 'floor'\n",
      " 'kitchen island' 'microwave' 'pendant lamp' 'plate' 'range'\n",
      " 'refrigerator' 'sink' 'stool' 'wall']\n",
      "no match found for  oven\n",
      "newgroup ['oven', 'stove']\n",
      "np.unique(atr.index): ['blind' 'bowl' 'cabinet' 'ceiling' 'chair' 'chandelier' 'diffusor'\n",
      " 'dishwasher' 'door' 'door frame' 'floor' 'flowerpot' 'kitchen island'\n",
      " 'knob' 'light switch' 'light troffer' 'microwave' 'plant' 'plate' 'range'\n",
      " 'refrigerator' 'semi-flush mount light' 'shade' 'shelf' 'table'\n",
      " 'towel paper' 'wall' 'window']\n",
      "no match found for  oven\n",
      "newgroup ['oven', 'stove']\n",
      "np.unique(atr.index): ['bottle' 'box' 'broom' 'cabinet' 'calendar' 'ceiling' 'door' 'drawer'\n",
      " 'extractor hood' 'floor' 'kitchen island' 'light troffer' 'molding'\n",
      " 'outlet' 'range' 'refrigerator' 'side' 'sink' 'toy' 'wall' 'work surface']\n",
      "no match found for  oven\n",
      "newgroup ['oven', 'stove']\n",
      "np.unique(atr.index): ['armchair' 'bottle' 'bowl' 'cabinet' 'canopy' 'carpet' 'ceiling'\n",
      " 'ceiling recessed light' 'chest of drawers' 'cord' 'diffusor' 'door'\n",
      " 'double door' 'drawer' 'faucet' 'floor' 'flowerpot' 'food' 'knob'\n",
      " 'light troffer' 'outlet' 'pendant lamp' 'plant' 'pot' 'range' 'shade'\n",
      " 'sink' 'television' 'wall' 'window' 'work surface']\n",
      "no match found for  oven\n",
      "newgroup ['oven', 'stove']\n",
      "np.unique(atr.index): ['cabinet' 'cabinets' 'ceiling' 'ceiling recessed light' 'door' 'drawer'\n",
      " 'floor' 'kitchen island' 'knob' 'microwave' 'pendant lamp' 'range'\n",
      " 'stool' 'vase' 'vent' 'wall' 'window' 'work surface']\n",
      "no match found for  oven\n",
      "newgroup ['oven', 'stove']\n",
      "np.unique(atr.index): ['apron' 'basket' 'bottle' 'bowls' 'box' 'cabinet' 'ceiling' 'dishcloth'\n",
      " 'door' 'drawer' 'extractor hood' 'faucet' 'floor' 'flowerpot' 'food'\n",
      " 'handle' 'kettle' 'kitchen island' 'knob' 'leg' 'pane' 'pitcher' 'plant'\n",
      " 'plate' 'range' 'rug' 'scales' 'shelf' 'sink' 'teacup' 'top' 'wall'\n",
      " 'window' 'work surface']\n",
      "no match found for  oven\n",
      "newgroup ['oven', 'stove']\n",
      "np.unique(atr.index): ['arm' 'armchair' 'back' 'base' 'bowl' 'cabinet' 'carpet' 'ceiling'\n",
      " 'ceiling recessed light' 'clock' 'coffee table' 'column' 'cushion' 'door'\n",
      " 'door frame' 'figurine' 'fireplace' 'floor' 'floor lamp' 'handle'\n",
      " 'inside arm' 'leg' 'light switch' 'outside arm' 'picture' 'range'\n",
      " 'sconce' 'seat base' 'seat cushion' 'shade' 'side table' 'sofa'\n",
      " 'table lamp' 'television' 'wall']\n",
      "no match found for  oven\n",
      "newgroup ['oven', 'stove']\n",
      "np.unique(atr.index): ['armchair' 'base' 'box' 'cabinet' 'carpet' 'ceiling' 'column' 'cushion'\n",
      " 'door' 'door frame' 'double door' 'fireplace' 'floor' 'flowerpot'\n",
      " 'ottoman' 'picture' 'plant' 'range' 'shade' 'side table' 'sofa'\n",
      " 'table lamp' 'vase' 'wall' 'window']\n",
      "no match found for  oven\n",
      "newgroup ['oven', 'stove']\n",
      "np.unique(atr.index): ['bowl' 'cabinet' 'ceiling' 'ceiling spotlight' 'curtain' 'door' 'eye'\n",
      " 'floor' 'fluorescent tube' 'fruits' 'glass' 'head' 'knob' 'left arm'\n",
      " 'left hand' 'left leg' 'mouth' 'person' 'range' 'right arm' 'right hand'\n",
      " 'seat' 'table' 'wall' 'window']\n",
      "no match found for  oven\n",
      "newgroup ['oven', 'stove']\n",
      "np.unique(atr.index): ['blind' 'bottle' 'cabinet' 'candle holder' 'ceiling'\n",
      " 'ceiling recessed light' 'chair' 'clock' 'console table' 'cooker' 'door'\n",
      " 'drawer' 'extractor hood' 'figurine' 'floor' 'flowerpot'\n",
      " 'fluorescent tube' 'handle' 'jar' 'kettle' 'light switch' 'outlet' 'pane'\n",
      " 'pendant lamp' 'picture' 'plant' 'range' 'shelf' 'table' 'tray' 'vase'\n",
      " 'wall' 'window' 'work surface']\n",
      "no match found for  oven\n",
      "newgroup ['oven', 'stove']\n",
      "np.unique(atr.index): ['back' 'bag' 'bottle' 'box' 'button panel' 'cabinet' 'ceiling'\n",
      " 'ceiling recessed light' 'chair' 'door' 'drawer' 'faucet' 'floor'\n",
      " 'flowers' 'flush mount light' 'glass' 'handle' 'ice maker' 'knob' 'leg'\n",
      " 'microwave' 'napkin' 'outlet' 'picture' 'plate' 'pot' 'range'\n",
      " 'refrigerator' 'rug' 'seat' 'shade' 'shelf' 'sink' 'stretcher' 'tray'\n",
      " 'vase' 'wall' 'work surface']\n"
     ]
    },
    {
     "name": "stderr",
     "output_type": "stream",
     "text": [
      " 85%|████████▌ | 69/81 [8:47:58<2:42:49, 814.11s/it] "
     ]
    },
    {
     "name": "stdout",
     "output_type": "stream",
     "text": [
      "no match found for  switch\n",
      "newgroup ['switch', 'switches']\n",
      "np.unique(atr.index): ['backpack' 'bed' 'book' 'can' 'ceiling' 'chair' 'desk' 'door'\n",
      " 'door frame' 'drawer' 'ear' 'eye' 'floor' 'hair' 'head' 'left arm'\n",
      " 'left foot' 'left hand' 'left leg' 'light switch' 'mouth' 'nose' 'paper'\n",
      " 'person' 'right arm' 'right foot' 'right hand' 'right leg' 'sconce'\n",
      " 'telephone' 'wall' 'wardrobe']\n"
     ]
    },
    {
     "name": "stderr",
     "output_type": "stream",
     "text": [
      "100%|██████████| 81/81 [10:56:27<00:00, 486.27s/it] \n"
     ]
    }
   ],
   "source": [
    "mask.saveImageMasks(masktype = masktype)"
   ]
  },
  {
   "cell_type": "code",
   "execution_count": null,
   "id": "laden-shipping",
   "metadata": {},
   "outputs": [],
   "source": []
  }
 ],
 "metadata": {
  "kernelspec": {
   "display_name": "Python 3",
   "language": "python",
   "name": "python3"
  },
  "language_info": {
   "codemirror_mode": {
    "name": "ipython",
    "version": 3
   },
   "file_extension": ".py",
   "mimetype": "text/x-python",
   "name": "python",
   "nbconvert_exporter": "python",
   "pygments_lexer": "ipython3",
   "version": "3.7.10"
  }
 },
 "nbformat": 4,
 "nbformat_minor": 5
}
