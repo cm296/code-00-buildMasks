{
 "cells": [
  {
   "cell_type": "code",
   "execution_count": 1,
   "id": "fourth-anaheim",
   "metadata": {},
   "outputs": [],
   "source": [
    "import ProduceMasks_wrapper as mask"
   ]
  },
  {
   "cell_type": "code",
   "execution_count": null,
   "id": "dominican-tucson",
   "metadata": {},
   "outputs": [
    {
     "name": "stderr",
     "output_type": "stream",
     "text": [
      "  0%|          | 0/81 [00:00<?, ?it/s]"
     ]
    },
    {
     "name": "stdout",
     "output_type": "stream",
     "text": [
      "_atr file mislabeled for this object for cat and file:  airplane ../../adeContext-datasets/ADE20K/ADE20K_2016_07_26/images/training/c/cockpit/ADE_train_00005911\n",
      "not mask possible\n",
      "_atr file mislabeled for this object for cat and file:  airplane ../../adeContext-datasets/ADE20K/ADE20K_2016_07_26/images/training/h/hangar/outdoor/ADE_train_00008876\n",
      "not mask possible\n"
     ]
    },
    {
     "name": "stderr",
     "output_type": "stream",
     "text": [
      "  1%|          | 1/81 [01:03<1:24:17, 63.22s/it]"
     ]
    },
    {
     "name": "stdout",
     "output_type": "stream",
     "text": [
      "_atr file mislabeled for this object for cat and file:  armchair ../../adeContext-datasets/ADE20K/ADE20K_2016_07_26/images/training/b/beauty_salon/ADE_train_00003188\n",
      "not mask possible\n",
      "_atr file mislabeled for this object for cat and file:  armchair ../../adeContext-datasets/ADE20K/ADE20K_2016_07_26/images/training/l/living_room/ADE_train_00011251\n",
      "not mask possible\n",
      "_atr file mislabeled for this object for cat and file:  armchair ../../adeContext-datasets/ADE20K/ADE20K_2016_07_26/images/training/l/living_room/ADE_train_00011263\n",
      "not mask possible\n"
     ]
    }
   ],
   "source": [
    "mask.ProduceImageMasks('scene')"
   ]
  },
  {
   "cell_type": "code",
   "execution_count": null,
   "id": "dried-weight",
   "metadata": {},
   "outputs": [],
   "source": []
  }
 ],
 "metadata": {
  "kernelspec": {
   "display_name": "Python 3",
   "language": "python",
   "name": "python3"
  },
  "language_info": {
   "codemirror_mode": {
    "name": "ipython",
    "version": 3
   },
   "file_extension": ".py",
   "mimetype": "text/x-python",
   "name": "python",
   "nbconvert_exporter": "python",
   "pygments_lexer": "ipython3",
   "version": "3.7.10"
  }
 },
 "nbformat": 4,
 "nbformat_minor": 5
}
