{
 "cells": [
  {
   "cell_type": "code",
   "execution_count": 1,
   "id": "opposite-cherry",
   "metadata": {},
   "outputs": [],
   "source": [
    "import os\n",
    "import pandas as pd\n",
    "from tqdm import tqdm\n",
    "import matplotlib.pyplot as plt\n",
    "import numpy as np\n",
    "import ProduceNewMasks as msk\n",
    "import ProcessSegMask as atr\n",
    "import csv\n",
    "import time"
   ]
  },
  {
   "cell_type": "code",
   "execution_count": 2,
   "id": "experimental-kruger",
   "metadata": {},
   "outputs": [],
   "source": [
    "local = 1\n",
    "SaveFolder = 'masks-ade-4'\n"
   ]
  },
  {
   "cell_type": "code",
   "execution_count": 3,
   "id": "auburn-wisdom",
   "metadata": {},
   "outputs": [],
   "source": [
    "Ade_subset = pd.read_csv(\"../Ade20K_labels/Ade20K_labels_local_scene_subset.txt\")"
   ]
  },
  {
   "cell_type": "code",
   "execution_count": 11,
   "id": "cognitive-questionnaire",
   "metadata": {},
   "outputs": [],
   "source": [
    "obj_count_byscene = pd.DataFrame({'countOcc': Ade_subset.groupby(['object','scene']).object.count()})"
   ]
  },
  {
   "cell_type": "code",
   "execution_count": 15,
   "id": "technical-parallel",
   "metadata": {},
   "outputs": [
    {
     "data": {
      "text/plain": [
       "Index(['airplane', 'airplane', 'airplane', 'airplane', 'airplane', 'airplane',\n",
       "       'airplane', 'airplane', 'airplane', 'airplane',\n",
       "       ...\n",
       "       'vase', 'vase', 'vase', 'vase', 'vase', 'vase', 'vase', 'vase', 'vase',\n",
       "       'vase'],\n",
       "      dtype='object', name='object', length=7532)"
      ]
     },
     "execution_count": 15,
     "metadata": {},
     "output_type": "execute_result"
    }
   ],
   "source": [
    "obj_count_byscene.index.get_level_values(0)"
   ]
  },
  {
   "cell_type": "code",
   "execution_count": 16,
   "id": "respective-vulnerability",
   "metadata": {},
   "outputs": [],
   "source": [
    "#Reorganize indexing, since output is a multiindex dataframe\n",
    "obj_count_byscene['scene']=obj_count_byscene.index.get_level_values(1)"
   ]
  },
  {
   "cell_type": "code",
   "execution_count": 17,
   "id": "pressing-holmes",
   "metadata": {},
   "outputs": [],
   "source": [
    "obj_count_byscene.index = obj_count_byscene.index.get_level_values(0)"
   ]
  },
  {
   "cell_type": "code",
   "execution_count": 5,
   "id": "special-beaver",
   "metadata": {},
   "outputs": [],
   "source": [
    "scene_count = obj_count_byscene.set_index('scene')\n",
    "scene_count['object'] = obj_count_byscene.index"
   ]
  },
  {
   "cell_type": "code",
   "execution_count": 18,
   "id": "annoying-government",
   "metadata": {},
   "outputs": [
    {
     "data": {
      "text/html": [
       "<div>\n",
       "<style scoped>\n",
       "    .dataframe tbody tr th:only-of-type {\n",
       "        vertical-align: middle;\n",
       "    }\n",
       "\n",
       "    .dataframe tbody tr th {\n",
       "        vertical-align: top;\n",
       "    }\n",
       "\n",
       "    .dataframe thead th {\n",
       "        text-align: right;\n",
       "    }\n",
       "</style>\n",
       "<table border=\"1\" class=\"dataframe\">\n",
       "  <thead>\n",
       "    <tr style=\"text-align: right;\">\n",
       "      <th></th>\n",
       "      <th>countOcc</th>\n",
       "      <th>scene</th>\n",
       "    </tr>\n",
       "    <tr>\n",
       "      <th>object</th>\n",
       "      <th></th>\n",
       "      <th></th>\n",
       "    </tr>\n",
       "  </thead>\n",
       "  <tbody>\n",
       "    <tr>\n",
       "      <th>airplane</th>\n",
       "      <td>9</td>\n",
       "      <td>air_base</td>\n",
       "    </tr>\n",
       "    <tr>\n",
       "      <th>airplane</th>\n",
       "      <td>7</td>\n",
       "      <td>airfield</td>\n",
       "    </tr>\n",
       "    <tr>\n",
       "      <th>airplane</th>\n",
       "      <td>13</td>\n",
       "      <td>airport/airport</td>\n",
       "    </tr>\n",
       "    <tr>\n",
       "      <th>airplane</th>\n",
       "      <td>1</td>\n",
       "      <td>airport_terminal</td>\n",
       "    </tr>\n",
       "    <tr>\n",
       "      <th>airplane</th>\n",
       "      <td>1</td>\n",
       "      <td>amusement_park</td>\n",
       "    </tr>\n",
       "  </tbody>\n",
       "</table>\n",
       "</div>"
      ],
      "text/plain": [
       "          countOcc             scene\n",
       "object                              \n",
       "airplane         9          air_base\n",
       "airplane         7          airfield\n",
       "airplane        13   airport/airport\n",
       "airplane         1  airport_terminal\n",
       "airplane         1    amusement_park"
      ]
     },
     "execution_count": 18,
     "metadata": {},
     "output_type": "execute_result"
    }
   ],
   "source": [
    "obj_count_byscene.head()"
   ]
  },
  {
   "cell_type": "code",
   "execution_count": null,
   "id": "turned-archives",
   "metadata": {},
   "outputs": [],
   "source": [
    "for obj in tqdm(np.unique(obj_count_byscene.index)):\n",
    "    print(obj)"
   ]
  },
  {
   "cell_type": "code",
   "execution_count": 139,
   "id": "supported-satisfaction",
   "metadata": {},
   "outputs": [
    {
     "data": {
      "text/plain": [
       "19621"
      ]
     },
     "execution_count": 139,
     "metadata": {},
     "output_type": "execute_result"
    }
   ],
   "source": [
    "len(np.unique(Ade_subset['filename']))"
   ]
  },
  {
   "cell_type": "code",
   "execution_count": 140,
   "id": "political-begin",
   "metadata": {},
   "outputs": [
    {
     "data": {
      "text/html": [
       "<div>\n",
       "<style scoped>\n",
       "    .dataframe tbody tr th:only-of-type {\n",
       "        vertical-align: middle;\n",
       "    }\n",
       "\n",
       "    .dataframe tbody tr th {\n",
       "        vertical-align: top;\n",
       "    }\n",
       "\n",
       "    .dataframe thead th {\n",
       "        text-align: right;\n",
       "    }\n",
       "</style>\n",
       "<table border=\"1\" class=\"dataframe\">\n",
       "  <thead>\n",
       "    <tr style=\"text-align: right;\">\n",
       "      <th></th>\n",
       "      <th></th>\n",
       "      <th>countOcc</th>\n",
       "    </tr>\n",
       "    <tr>\n",
       "      <th>object</th>\n",
       "      <th>scene</th>\n",
       "      <th></th>\n",
       "    </tr>\n",
       "  </thead>\n",
       "  <tbody>\n",
       "    <tr>\n",
       "      <th rowspan=\"5\" valign=\"top\">airplane</th>\n",
       "      <th>air_base</th>\n",
       "      <td>9</td>\n",
       "    </tr>\n",
       "    <tr>\n",
       "      <th>airfield</th>\n",
       "      <td>7</td>\n",
       "    </tr>\n",
       "    <tr>\n",
       "      <th>airport/airport</th>\n",
       "      <td>13</td>\n",
       "    </tr>\n",
       "    <tr>\n",
       "      <th>airport_terminal</th>\n",
       "      <td>1</td>\n",
       "    </tr>\n",
       "    <tr>\n",
       "      <th>amusement_park</th>\n",
       "      <td>1</td>\n",
       "    </tr>\n",
       "    <tr>\n",
       "      <th>...</th>\n",
       "      <th>...</th>\n",
       "      <td>...</td>\n",
       "    </tr>\n",
       "    <tr>\n",
       "      <th rowspan=\"5\" valign=\"top\">vase</th>\n",
       "      <th>waiting_room</th>\n",
       "      <td>17</td>\n",
       "    </tr>\n",
       "    <tr>\n",
       "      <th>wet_bar</th>\n",
       "      <td>8</td>\n",
       "    </tr>\n",
       "    <tr>\n",
       "      <th>window_seat</th>\n",
       "      <td>5</td>\n",
       "    </tr>\n",
       "    <tr>\n",
       "      <th>youth_hostel</th>\n",
       "      <td>2</td>\n",
       "    </tr>\n",
       "    <tr>\n",
       "      <th>~not labeled</th>\n",
       "      <td>65</td>\n",
       "    </tr>\n",
       "  </tbody>\n",
       "</table>\n",
       "<p>7532 rows × 1 columns</p>\n",
       "</div>"
      ],
      "text/plain": [
       "                           countOcc\n",
       "object   scene                     \n",
       "airplane air_base                 9\n",
       "         airfield                 7\n",
       "         airport/airport         13\n",
       "         airport_terminal         1\n",
       "         amusement_park           1\n",
       "...                             ...\n",
       "vase     waiting_room            17\n",
       "         wet_bar                  8\n",
       "         window_seat              5\n",
       "         youth_hostel             2\n",
       "         ~not labeled            65\n",
       "\n",
       "[7532 rows x 1 columns]"
      ]
     },
     "execution_count": 140,
     "metadata": {},
     "output_type": "execute_result"
    }
   ],
   "source": [
    "obj_count_byscene = pd.DataFrame({'countOcc': Ade_subset.groupby(['object','scene']).object.count()})\n",
    "obj_count_byscene"
   ]
  },
  {
   "cell_type": "code",
   "execution_count": 141,
   "id": "blocked-sugar",
   "metadata": {},
   "outputs": [],
   "source": [
    "obj_count_byscene['scene']=obj_count_byscene.index.get_level_values(1)\n",
    "\n",
    "obj_count_byscene.index = obj_count_byscene.index.get_level_values(0)\n"
   ]
  },
  {
   "cell_type": "code",
   "execution_count": 142,
   "id": "incident-split",
   "metadata": {},
   "outputs": [
    {
     "data": {
      "text/html": [
       "<div>\n",
       "<style scoped>\n",
       "    .dataframe tbody tr th:only-of-type {\n",
       "        vertical-align: middle;\n",
       "    }\n",
       "\n",
       "    .dataframe tbody tr th {\n",
       "        vertical-align: top;\n",
       "    }\n",
       "\n",
       "    .dataframe thead th {\n",
       "        text-align: right;\n",
       "    }\n",
       "</style>\n",
       "<table border=\"1\" class=\"dataframe\">\n",
       "  <thead>\n",
       "    <tr style=\"text-align: right;\">\n",
       "      <th></th>\n",
       "      <th>countOcc</th>\n",
       "      <th>scene</th>\n",
       "    </tr>\n",
       "    <tr>\n",
       "      <th>object</th>\n",
       "      <th></th>\n",
       "      <th></th>\n",
       "    </tr>\n",
       "  </thead>\n",
       "  <tbody>\n",
       "    <tr>\n",
       "      <th>airplane</th>\n",
       "      <td>9</td>\n",
       "      <td>air_base</td>\n",
       "    </tr>\n",
       "    <tr>\n",
       "      <th>airplane</th>\n",
       "      <td>7</td>\n",
       "      <td>airfield</td>\n",
       "    </tr>\n",
       "    <tr>\n",
       "      <th>airplane</th>\n",
       "      <td>13</td>\n",
       "      <td>airport/airport</td>\n",
       "    </tr>\n",
       "    <tr>\n",
       "      <th>airplane</th>\n",
       "      <td>1</td>\n",
       "      <td>airport_terminal</td>\n",
       "    </tr>\n",
       "    <tr>\n",
       "      <th>airplane</th>\n",
       "      <td>1</td>\n",
       "      <td>amusement_park</td>\n",
       "    </tr>\n",
       "    <tr>\n",
       "      <th>...</th>\n",
       "      <td>...</td>\n",
       "      <td>...</td>\n",
       "    </tr>\n",
       "    <tr>\n",
       "      <th>vase</th>\n",
       "      <td>17</td>\n",
       "      <td>waiting_room</td>\n",
       "    </tr>\n",
       "    <tr>\n",
       "      <th>vase</th>\n",
       "      <td>8</td>\n",
       "      <td>wet_bar</td>\n",
       "    </tr>\n",
       "    <tr>\n",
       "      <th>vase</th>\n",
       "      <td>5</td>\n",
       "      <td>window_seat</td>\n",
       "    </tr>\n",
       "    <tr>\n",
       "      <th>vase</th>\n",
       "      <td>2</td>\n",
       "      <td>youth_hostel</td>\n",
       "    </tr>\n",
       "    <tr>\n",
       "      <th>vase</th>\n",
       "      <td>65</td>\n",
       "      <td>~not labeled</td>\n",
       "    </tr>\n",
       "  </tbody>\n",
       "</table>\n",
       "<p>7532 rows × 2 columns</p>\n",
       "</div>"
      ],
      "text/plain": [
       "          countOcc             scene\n",
       "object                              \n",
       "airplane         9          air_base\n",
       "airplane         7          airfield\n",
       "airplane        13   airport/airport\n",
       "airplane         1  airport_terminal\n",
       "airplane         1    amusement_park\n",
       "...            ...               ...\n",
       "vase            17      waiting_room\n",
       "vase             8           wet_bar\n",
       "vase             5       window_seat\n",
       "vase             2      youth_hostel\n",
       "vase            65      ~not labeled\n",
       "\n",
       "[7532 rows x 2 columns]"
      ]
     },
     "execution_count": 142,
     "metadata": {},
     "output_type": "execute_result"
    }
   ],
   "source": [
    "obj_count_byscene"
   ]
  },
  {
   "cell_type": "code",
   "execution_count": 143,
   "id": "antique-formation",
   "metadata": {},
   "outputs": [],
   "source": [
    "# scene_count = pd.DataFrame({'countOcc':Ade_subset.groupby(['scene']).scene.count()})"
   ]
  },
  {
   "cell_type": "code",
   "execution_count": 144,
   "id": "communist-document",
   "metadata": {},
   "outputs": [],
   "source": [
    "# scene_count.head()\n",
    "# scene_count['object'] = scene_count.index.get_level_values(1)\n",
    "# scene_count.index = scene_count.index.get_level_values(0)"
   ]
  },
  {
   "cell_type": "code",
   "execution_count": 145,
   "id": "renewable-submission",
   "metadata": {},
   "outputs": [],
   "source": [
    "# scene_count"
   ]
  },
  {
   "cell_type": "code",
   "execution_count": 146,
   "id": "infinite-karen",
   "metadata": {},
   "outputs": [],
   "source": [
    "# sc_by_cat = scene_count[scene_count.index.get_level_values(0)=='abbey']"
   ]
  },
  {
   "cell_type": "code",
   "execution_count": 147,
   "id": "occasional-willow",
   "metadata": {},
   "outputs": [],
   "source": [
    "# sc_by_cat = pd.DataFrame({'countOcc':Ade_subset.groupby(['scene','object']).scene.count()})"
   ]
  },
  {
   "cell_type": "code",
   "execution_count": 148,
   "id": "deluxe-conclusion",
   "metadata": {},
   "outputs": [],
   "source": [
    "# sc_by_cat"
   ]
  },
  {
   "cell_type": "code",
   "execution_count": 149,
   "id": "aging-hanging",
   "metadata": {},
   "outputs": [],
   "source": [
    "# sc_by_cat[sc_by_cat.index.get_level_values(1) == 'bench'].countOcc"
   ]
  },
  {
   "cell_type": "code",
   "execution_count": 153,
   "id": "difficult-spouse",
   "metadata": {},
   "outputs": [],
   "source": [
    "# sc_by_cat['object'] = sc_by_cat.index.get_level_values(1)\n",
    "# sc_by_cat.index = sc_by_cat.index.get_level_values(0)"
   ]
  },
  {
   "cell_type": "code",
   "execution_count": 155,
   "id": "capable-salvation",
   "metadata": {},
   "outputs": [],
   "source": [
    "scene_count = obj_count_byscene.set_index('scene')"
   ]
  },
  {
   "cell_type": "code",
   "execution_count": 156,
   "id": "healthy-navigator",
   "metadata": {},
   "outputs": [],
   "source": [
    "scene_count['object'] = obj_count_byscene.index"
   ]
  },
  {
   "cell_type": "code",
   "execution_count": 158,
   "id": "absent-recruitment",
   "metadata": {},
   "outputs": [],
   "source": [
    "sc_by_cat = scene_count[scene_count.index == 'air_base']"
   ]
  },
  {
   "cell_type": "code",
   "execution_count": 159,
   "id": "hawaiian-halloween",
   "metadata": {},
   "outputs": [],
   "source": [
    "nImages = int(sc_by_cat[sc_by_cat['object'] == 'airplane'].countOcc)"
   ]
  },
  {
   "cell_type": "code",
   "execution_count": 160,
   "id": "prompt-interstate",
   "metadata": {},
   "outputs": [
    {
     "data": {
      "text/plain": [
       "9"
      ]
     },
     "execution_count": 160,
     "metadata": {},
     "output_type": "execute_result"
    }
   ],
   "source": [
    "nImages"
   ]
  },
  {
   "cell_type": "code",
   "execution_count": 161,
   "id": "incoming-animation",
   "metadata": {},
   "outputs": [
    {
     "name": "stderr",
     "output_type": "stream",
     "text": [
      "100%|██████████| 81/81 [00:56<00:00,  1.42it/s]\n"
     ]
    }
   ],
   "source": [
    "newdf = pd.DataFrame()\n",
    "missing = pd.DataFrame()\n",
    "missobj = [] \n",
    "misssc = []\n",
    "misscount = []\n",
    "for obj in tqdm(np.unique(obj_count_byscene.index)):\n",
    "#     print(obj)\n",
    "    thisobj = obj_count_byscene.loc[obj]\n",
    "#     print(thisobj)\n",
    "    \n",
    "    #eliminate all of this object occcurrences\n",
    "    Ade_NoObj = Ade_subset[Ade_subset['object'] != obj]\n",
    "    \n",
    "    #eliminate all images that contain this object\n",
    "    ListFiles = np.unique(Ade_subset[Ade_subset['object'] == obj].filename)\n",
    "    Ade_NoObj = Ade_NoObj[~Ade_NoObj.filename.isin( ListFiles)]\n",
    "    \n",
    "    #group by the remaining things\n",
    "    Ade_NoObj = pd.DataFrame({'countob' : Ade_NoObj.groupby(['filename','scene','filepath']).scene.count()})\n",
    "    Ade_NoObj['filepath'] = Ade_NoObj.index.get_level_values(2)\n",
    "    Ade_NoObj['scene'] = Ade_NoObj.index.get_level_values(1)\n",
    "    Ade_NoObj.index = Ade_NoObj.index.get_level_values(0)\n",
    "#     print('ready')\n",
    "    for sc in thisobj['scene']:\n",
    "        \n",
    "        sc_by_cat = scene_count[scene_count.index==sc]\n",
    "        nImages = int(sc_by_cat[sc_by_cat['object'] == obj].countOcc)\n",
    "        if len(Ade_NoObj[Ade_NoObj['scene']==sc]) == 0:\n",
    "            missobj.append(obj)\n",
    "            misssc.append(sc)\n",
    "            misscount.append(nImages)\n",
    "            \n",
    "#             print('no replacement images for this object and this scene:', obj, sc)\n",
    "            continue\n",
    "        elif nImages < len(Ade_NoObj[Ade_NoObj['scene']==sc]):\n",
    "            newsample = Ade_NoObj[Ade_NoObj['scene']==sc].sample(nImages)\n",
    "        else:\n",
    "            newsample = Ade_NoObj[Ade_NoObj['scene']==sc].sample(nImages,replace=True)\n",
    "        newsample = newsample.assign(objectCat = obj)\n",
    "        newsample = newsample.assign(scene = sc)\n",
    "        newdf = newdf.append(newsample)\n",
    "#             newdf.append(Ade_NoObj[Ade_NoObj['scene']==sc].sample(nImages))\n",
    "missing_items = pd.DataFrame(\n",
    "    {'object': missobj,\n",
    "     'scene': misssc,\n",
    "     'countObj': misscount\n",
    "    })            \n"
   ]
  },
  {
   "cell_type": "code",
   "execution_count": 162,
   "id": "forced-oregon",
   "metadata": {},
   "outputs": [],
   "source": [
    "newdf = newdf.reset_index()\n",
    "newdf = newdf[[\"objectCat\", \"filepath\", \"filename\",'scene']]\n",
    "newdf = newdf.rename(columns={\"objectCat\": \"object\"})           \n",
    "newdf.to_csv('../Ade20K_labels/Ade20K_labels_local_scene_subset_resampled.txt')   "
   ]
  },
  {
   "cell_type": "code",
   "execution_count": 127,
   "id": "hidden-dealing",
   "metadata": {},
   "outputs": [],
   "source": [
    "missing_items.to_csv('../Ade20K_labels/missingItems_resampled.txt')"
   ]
  },
  {
   "cell_type": "code",
   "execution_count": 128,
   "id": "wicked-assembly",
   "metadata": {},
   "outputs": [],
   "source": [
    "# missing_items = missing_items.set_index('object')"
   ]
  },
  {
   "cell_type": "code",
   "execution_count": 129,
   "id": "excellent-hypothesis",
   "metadata": {},
   "outputs": [],
   "source": [
    "countMissing = pd.DataFrame({'countObj': missing_items.groupby('object').object.count()})"
   ]
  },
  {
   "cell_type": "code",
   "execution_count": 130,
   "id": "returning-exchange",
   "metadata": {},
   "outputs": [],
   "source": [
    "countCats = pd.DataFrame({'countObj': Ade_subset.groupby('object').object.count()})"
   ]
  },
  {
   "cell_type": "code",
   "execution_count": 131,
   "id": "behind-firmware",
   "metadata": {},
   "outputs": [
    {
     "data": {
      "text/html": [
       "<div>\n",
       "<style scoped>\n",
       "    .dataframe tbody tr th:only-of-type {\n",
       "        vertical-align: middle;\n",
       "    }\n",
       "\n",
       "    .dataframe tbody tr th {\n",
       "        vertical-align: top;\n",
       "    }\n",
       "\n",
       "    .dataframe thead th {\n",
       "        text-align: right;\n",
       "    }\n",
       "</style>\n",
       "<table border=\"1\" class=\"dataframe\">\n",
       "  <thead>\n",
       "    <tr style=\"text-align: right;\">\n",
       "      <th></th>\n",
       "      <th>countObj_x</th>\n",
       "      <th>countObj_y</th>\n",
       "    </tr>\n",
       "    <tr>\n",
       "      <th>object</th>\n",
       "      <th></th>\n",
       "      <th></th>\n",
       "    </tr>\n",
       "  </thead>\n",
       "  <tbody>\n",
       "    <tr>\n",
       "      <th>airplane</th>\n",
       "      <td>2</td>\n",
       "      <td>146</td>\n",
       "    </tr>\n",
       "    <tr>\n",
       "      <th>armchair</th>\n",
       "      <td>2</td>\n",
       "      <td>1296</td>\n",
       "    </tr>\n",
       "    <tr>\n",
       "      <th>bathtub</th>\n",
       "      <td>1</td>\n",
       "      <td>504</td>\n",
       "    </tr>\n",
       "    <tr>\n",
       "      <th>bed</th>\n",
       "      <td>1</td>\n",
       "      <td>2091</td>\n",
       "    </tr>\n",
       "    <tr>\n",
       "      <th>bench</th>\n",
       "      <td>13</td>\n",
       "      <td>703</td>\n",
       "    </tr>\n",
       "  </tbody>\n",
       "</table>\n",
       "</div>"
      ],
      "text/plain": [
       "          countObj_x  countObj_y\n",
       "object                          \n",
       "airplane           2         146\n",
       "armchair           2        1296\n",
       "bathtub            1         504\n",
       "bed                1        2091\n",
       "bench             13         703"
      ]
     },
     "execution_count": 131,
     "metadata": {},
     "output_type": "execute_result"
    }
   ],
   "source": [
    "countcats_all = countMissing.merge(countCats, left_index = True, right_index=True, how='inner')\n",
    "countcats_all.head()"
   ]
  },
  {
   "cell_type": "code",
   "execution_count": 132,
   "id": "laden-trade",
   "metadata": {},
   "outputs": [],
   "source": [
    "countcats_all['percent'] = countcats_all['countObj_x']/countcats_all['countObj_y']"
   ]
  },
  {
   "cell_type": "code",
   "execution_count": 133,
   "id": "worldwide-scholar",
   "metadata": {},
   "outputs": [],
   "source": [
    "import pylab as P\n"
   ]
  },
  {
   "cell_type": "code",
   "execution_count": 134,
   "id": "imposed-handling",
   "metadata": {},
   "outputs": [
    {
     "data": {
      "image/png": "[encoded data removed]",
      "text/plain": [
       "<Figure size 640x480 with 1 Axes>"
      ]
     },
     "metadata": {
      "needs_background": "light"
     },
     "output_type": "display_data"
    }
   ],
   "source": [
    "P.figure(figsize=(8, 6), dpi=80)\n",
    "bp = P.boxplot(countcats_all['percent'])\n",
    "y = countcats_all['percent']\n",
    "x = np.random.normal(1, 0.04, size=len(y))\n",
    "P.plot(x, y, 'r.', alpha=0.2)\n",
    "P.show()"
   ]
  },
  {
   "cell_type": "code",
   "execution_count": 1,
   "id": "regular-magazine",
   "metadata": {},
   "outputs": [
    {
     "ename": "NameError",
     "evalue": "name 'newdf' is not defined",
     "output_type": "error",
     "traceback": [
      "\u001b[0;31m---------------------------------------------------------------------------\u001b[0m",
      "\u001b[0;31mNameError\u001b[0m                                 Traceback (most recent call last)",
      "\u001b[0;32m<ipython-input-1-989c95f87c26>\u001b[0m in \u001b[0;36m<module>\u001b[0;34m\u001b[0m\n\u001b[0;32m----> 1\u001b[0;31m \u001b[0mnewdf\u001b[0m\u001b[0;34m\u001b[0m\u001b[0;34m\u001b[0m\u001b[0m\n\u001b[0m",
      "\u001b[0;31mNameError\u001b[0m: name 'newdf' is not defined"
     ]
    }
   ],
   "source": [
    "newdf"
   ]
  },
  {
   "cell_type": "code",
   "execution_count": null,
   "id": "genetic-millennium",
   "metadata": {},
   "outputs": [],
   "source": []
  }
 ],
 "metadata": {
  "kernelspec": {
   "display_name": "Python 3",
   "language": "python",
   "name": "python3"
  },
  "language_info": {
   "codemirror_mode": {
    "name": "ipython",
    "version": 3
   },
   "file_extension": ".py",
   "mimetype": "text/x-python",
   "name": "python",
   "nbconvert_exporter": "python",
   "pygments_lexer": "ipython3",
   "version": "3.7.10"
  }
 },
 "nbformat": 4,
 "nbformat_minor": 5
}
