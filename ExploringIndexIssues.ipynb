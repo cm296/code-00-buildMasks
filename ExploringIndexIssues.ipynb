{
 "cells": [
  {
   "cell_type": "code",
   "execution_count": 115,
   "id": "naughty-soldier",
   "metadata": {},
   "outputs": [],
   "source": [
    "import pandas as pd\n",
    "import pylab as P\n",
    "import numpy as np"
   ]
  },
  {
   "cell_type": "code",
   "execution_count": 116,
   "id": "pressing-purchase",
   "metadata": {},
   "outputs": [],
   "source": [
    "#Load datasets of relevance\n",
    "\n",
    "Ade_subset = pd.read_csv('../ADE20K_labels/Ade20K_labels_local.txt').set_index('filename')\n",
    "\n",
    "MissingIndex = pd.read_csv('../masks-ade-4/AtrFileIndexError_20210413-200239.csv', header = None,names = ['category','filepath'])\n",
    "\n",
    "SegMissing = pd.read_csv('../masks-ade-4/SegMasksNotFound_20210413-200239.csv')\n"
   ]
  },
  {
   "cell_type": "code",
   "execution_count": 117,
   "id": "organized-suicide",
   "metadata": {},
   "outputs": [],
   "source": [
    "MissingIndex['Filenames'] = [i[-1] for i in MissingIndex.filepath.str.split('/')]"
   ]
  },
  {
   "cell_type": "code",
   "execution_count": 118,
   "id": "former-quest",
   "metadata": {},
   "outputs": [],
   "source": [
    "SegMissing['Filenames'] = [i[-1] for i in SegMissing.filepath.str.split('/')]"
   ]
  },
  {
   "cell_type": "code",
   "execution_count": 119,
   "id": "historical-painting",
   "metadata": {},
   "outputs": [],
   "source": [
    "MissingIndex = MissingIndex.set_index('Filenames')"
   ]
  },
  {
   "cell_type": "code",
   "execution_count": 120,
   "id": "breeding-contrast",
   "metadata": {},
   "outputs": [],
   "source": [
    "SegMissing = SegMissing.set_index('Filenames')"
   ]
  },
  {
   "cell_type": "code",
   "execution_count": 121,
   "id": "sharp-candy",
   "metadata": {},
   "outputs": [],
   "source": [
    "#Drop non index rows\n",
    "Ade_subset = Ade_subset.drop(MissingIndex.index, axis=0)"
   ]
  },
  {
   "cell_type": "code",
   "execution_count": 122,
   "id": "controlling-retail",
   "metadata": {},
   "outputs": [],
   "source": [
    "Ade_subset = Ade_subset.drop(SegMissing.index, axis=0)"
   ]
  },
  {
   "cell_type": "code",
   "execution_count": 124,
   "id": "forced-duplicate",
   "metadata": {},
   "outputs": [],
   "source": [
    "Ade_subset.reset_index(inplace=True)"
   ]
  },
  {
   "cell_type": "code",
   "execution_count": 126,
   "id": "threatened-spain",
   "metadata": {},
   "outputs": [],
   "source": [
    "Ade_subset = Ade_subset[['condition', 'object', 'filepath', 'filename']]"
   ]
  },
  {
   "cell_type": "code",
   "execution_count": 130,
   "id": "written-speed",
   "metadata": {},
   "outputs": [],
   "source": [
    "Ade_subset.to_csv('../ADE20K_labels/Ade20K_labels_local_subset.txt')"
   ]
  },
  {
   "cell_type": "code",
   "execution_count": 57,
   "id": "nominated-accuracy",
   "metadata": {},
   "outputs": [
    {
     "data": {
      "image/png": "[encoded data removed]",
      "text/plain": [
       "<Figure size 640x480 with 1 Axes>"
      ]
     },
     "metadata": {
      "needs_background": "light"
     },
     "output_type": "display_data"
    }
   ],
   "source": [
    "#Compute aggregate statistics to see percent of missing index objects, and plot it\n",
    "\n",
    "missindex_pd = pd.DataFrame({'countNoIndex' : MissingIndex.groupby('category').filepath.count()})\n",
    "AdeCount_pd = pd.DataFrame({'count' : Ade_subset.groupby('object').filepath.count()})\n",
    "Combinedf = missindex_pd.merge(AdeCount_pd, left_index=True, right_index=True)\n",
    "percentAffected = Combinedf['countNoIndex']/Combinedf['count']\n",
    "\n",
    "P.figure(figsize=(8, 6), dpi=80)\n",
    "\n",
    "bp = P.boxplot(percentAffected)\n",
    "y = percentAffected\n",
    "x = np.random.normal(1, 0.04, size=len(y))\n",
    "P.plot(x, y, 'r.', alpha=0.2)\n",
    "P.show()\n"
   ]
  },
  {
   "cell_type": "code",
   "execution_count": 49,
   "id": "mechanical-association",
   "metadata": {},
   "outputs": [
    {
     "data": {
      "image/png": "[encoded data removed]",
      "text/plain": [
       "<Figure size 640x480 with 1 Axes>"
      ]
     },
     "metadata": {
      "needs_background": "light"
     },
     "output_type": "display_data"
    }
   ],
   "source": []
  },
  {
   "cell_type": "code",
   "execution_count": 52,
   "id": "metric-fetish",
   "metadata": {},
   "outputs": [
    {
     "data": {
      "text/plain": [
       "beacon      0.036364\n",
       "bench       0.030345\n",
       "blanket     0.025316\n",
       "mountain    0.028633\n",
       "road        0.029750\n",
       "sand        0.029326\n",
       "sea         0.025424\n",
       "dtype: float64"
      ]
     },
     "execution_count": 52,
     "metadata": {},
     "output_type": "execute_result"
    }
   ],
   "source": [
    "percentAffected[percentAffected>0.025]"
   ]
  },
  {
   "cell_type": "code",
   "execution_count": 53,
   "id": "alive-maker",
   "metadata": {},
   "outputs": [
    {
     "data": {
      "text/html": [
       "<div>\n",
       "<style scoped>\n",
       "    .dataframe tbody tr th:only-of-type {\n",
       "        vertical-align: middle;\n",
       "    }\n",
       "\n",
       "    .dataframe tbody tr th {\n",
       "        vertical-align: top;\n",
       "    }\n",
       "\n",
       "    .dataframe thead th {\n",
       "        text-align: right;\n",
       "    }\n",
       "</style>\n",
       "<table border=\"1\" class=\"dataframe\">\n",
       "  <thead>\n",
       "    <tr style=\"text-align: right;\">\n",
       "      <th></th>\n",
       "      <th>condition</th>\n",
       "      <th>object</th>\n",
       "      <th>filepath</th>\n",
       "      <th>filename</th>\n",
       "    </tr>\n",
       "  </thead>\n",
       "  <tbody>\n",
       "    <tr>\n",
       "      <th>0</th>\n",
       "      <td>1</td>\n",
       "      <td>airplane</td>\n",
       "      <td>../../adeContext-datasets/ADE20K/ADE20K_2016_0...</td>\n",
       "      <td>ADE_train_00001024</td>\n",
       "    </tr>\n",
       "    <tr>\n",
       "      <th>1</th>\n",
       "      <td>1</td>\n",
       "      <td>airplane</td>\n",
       "      <td>../../adeContext-datasets/ADE20K/ADE20K_2016_0...</td>\n",
       "      <td>ADE_train_00001025</td>\n",
       "    </tr>\n",
       "    <tr>\n",
       "      <th>2</th>\n",
       "      <td>1</td>\n",
       "      <td>airplane</td>\n",
       "      <td>../../adeContext-datasets/ADE20K/ADE20K_2016_0...</td>\n",
       "      <td>ADE_train_00001026</td>\n",
       "    </tr>\n",
       "    <tr>\n",
       "      <th>3</th>\n",
       "      <td>1</td>\n",
       "      <td>airplane</td>\n",
       "      <td>../../adeContext-datasets/ADE20K/ADE20K_2016_0...</td>\n",
       "      <td>ADE_train_00001027</td>\n",
       "    </tr>\n",
       "    <tr>\n",
       "      <th>4</th>\n",
       "      <td>1</td>\n",
       "      <td>airplane</td>\n",
       "      <td>../../adeContext-datasets/ADE20K/ADE20K_2016_0...</td>\n",
       "      <td>ADE_train_00001028</td>\n",
       "    </tr>\n",
       "  </tbody>\n",
       "</table>\n",
       "</div>"
      ],
      "text/plain": [
       "   condition    object                                           filepath  \\\n",
       "0          1  airplane  ../../adeContext-datasets/ADE20K/ADE20K_2016_0...   \n",
       "1          1  airplane  ../../adeContext-datasets/ADE20K/ADE20K_2016_0...   \n",
       "2          1  airplane  ../../adeContext-datasets/ADE20K/ADE20K_2016_0...   \n",
       "3          1  airplane  ../../adeContext-datasets/ADE20K/ADE20K_2016_0...   \n",
       "4          1  airplane  ../../adeContext-datasets/ADE20K/ADE20K_2016_0...   \n",
       "\n",
       "             filename  \n",
       "0  ADE_train_00001024  \n",
       "1  ADE_train_00001025  \n",
       "2  ADE_train_00001026  \n",
       "3  ADE_train_00001027  \n",
       "4  ADE_train_00001028  "
      ]
     },
     "execution_count": 53,
     "metadata": {},
     "output_type": "execute_result"
    }
   ],
   "source": [
    "Ade_subset.head()"
   ]
  },
  {
   "cell_type": "code",
   "execution_count": 56,
   "id": "scenic-spanking",
   "metadata": {},
   "outputs": [
    {
     "data": {
      "text/html": [
       "<div>\n",
       "<style scoped>\n",
       "    .dataframe tbody tr th:only-of-type {\n",
       "        vertical-align: middle;\n",
       "    }\n",
       "\n",
       "    .dataframe tbody tr th {\n",
       "        vertical-align: top;\n",
       "    }\n",
       "\n",
       "    .dataframe thead th {\n",
       "        text-align: right;\n",
       "    }\n",
       "</style>\n",
       "<table border=\"1\" class=\"dataframe\">\n",
       "  <thead>\n",
       "    <tr style=\"text-align: right;\">\n",
       "      <th></th>\n",
       "      <th>category</th>\n",
       "      <th>filepath</th>\n",
       "    </tr>\n",
       "  </thead>\n",
       "  <tbody>\n",
       "    <tr>\n",
       "      <th>0</th>\n",
       "      <td>airplane</td>\n",
       "      <td>../../adeContext-datasets/ADE20K/ADE20K_2016_0...</td>\n",
       "    </tr>\n",
       "    <tr>\n",
       "      <th>1</th>\n",
       "      <td>airplane</td>\n",
       "      <td>../../adeContext-datasets/ADE20K/ADE20K_2016_0...</td>\n",
       "    </tr>\n",
       "    <tr>\n",
       "      <th>2</th>\n",
       "      <td>armchair</td>\n",
       "      <td>../../adeContext-datasets/ADE20K/ADE20K_2016_0...</td>\n",
       "    </tr>\n",
       "    <tr>\n",
       "      <th>3</th>\n",
       "      <td>armchair</td>\n",
       "      <td>../../adeContext-datasets/ADE20K/ADE20K_2016_0...</td>\n",
       "    </tr>\n",
       "    <tr>\n",
       "      <th>4</th>\n",
       "      <td>armchair</td>\n",
       "      <td>../../adeContext-datasets/ADE20K/ADE20K_2016_0...</td>\n",
       "    </tr>\n",
       "  </tbody>\n",
       "</table>\n",
       "</div>"
      ],
      "text/plain": [
       "   category                                           filepath\n",
       "0  airplane  ../../adeContext-datasets/ADE20K/ADE20K_2016_0...\n",
       "1  airplane  ../../adeContext-datasets/ADE20K/ADE20K_2016_0...\n",
       "2  armchair  ../../adeContext-datasets/ADE20K/ADE20K_2016_0...\n",
       "3  armchair  ../../adeContext-datasets/ADE20K/ADE20K_2016_0...\n",
       "4  armchair  ../../adeContext-datasets/ADE20K/ADE20K_2016_0..."
      ]
     },
     "execution_count": 56,
     "metadata": {},
     "output_type": "execute_result"
    }
   ],
   "source": [
    "MissingIndex.head()\n"
   ]
  },
  {
   "cell_type": "code",
   "execution_count": null,
   "id": "local-throw",
   "metadata": {},
   "outputs": [],
   "source": []
  }
 ],
 "metadata": {
  "kernelspec": {
   "display_name": "Python 3",
   "language": "python",
   "name": "python3"
  },
  "language_info": {
   "codemirror_mode": {
    "name": "ipython",
    "version": 3
   },
   "file_extension": ".py",
   "mimetype": "text/x-python",
   "name": "python",
   "nbconvert_exporter": "python",
   "pygments_lexer": "ipython3",
   "version": "3.7.10"
  }
 },
 "nbformat": 4,
 "nbformat_minor": 5
}
